{
 "cells": [
  {
   "cell_type": "code",
   "execution_count": 1,
   "metadata": {},
   "outputs": [
    {
     "name": "stderr",
     "output_type": "stream",
     "text": [
      "2024-04-26 14:56:51.999696: I tensorflow/core/platform/cpu_feature_guard.cc:193] This TensorFlow binary is optimized with oneAPI Deep Neural Network Library (oneDNN) to use the following CPU instructions in performance-critical operations:  AVX2 AVX512F FMA\n",
      "To enable them in other operations, rebuild TensorFlow with the appropriate compiler flags.\n",
      "2024-04-26 14:56:52.195351: E tensorflow/stream_executor/cuda/cuda_blas.cc:2981] Unable to register cuBLAS factory: Attempting to register factory for plugin cuBLAS when one has already been registered\n",
      "2024-04-26 14:56:52.813912: W tensorflow/stream_executor/platform/default/dso_loader.cc:64] Could not load dynamic library 'libnvinfer.so.7'; dlerror: libnvinfer.so.7: cannot open shared object file: No such file or directory; LD_LIBRARY_PATH: /home/12559743/.local/lib/python3.10/site-packages/cv2/../../lib64::/opt/Qt/6.3.1/gcc_6/lib:/opt/Qt/6.3.1/gcc_6/lib\n",
      "2024-04-26 14:56:52.814062: W tensorflow/stream_executor/platform/default/dso_loader.cc:64] Could not load dynamic library 'libnvinfer_plugin.so.7'; dlerror: libnvinfer_plugin.so.7: cannot open shared object file: No such file or directory; LD_LIBRARY_PATH: /home/12559743/.local/lib/python3.10/site-packages/cv2/../../lib64::/opt/Qt/6.3.1/gcc_6/lib:/opt/Qt/6.3.1/gcc_6/lib\n",
      "2024-04-26 14:56:52.814072: W tensorflow/compiler/tf2tensorrt/utils/py_utils.cc:38] TF-TRT Warning: Cannot dlopen some TensorRT libraries. If you would like to use Nvidia GPU with TensorRT, please make sure the missing libraries mentioned above are installed properly.\n"
     ]
    }
   ],
   "source": [
    "import pandas as pd\n",
    "import numpy as np\n",
    "import cv2\n",
    "import os\n",
    "import re\n",
    "from PIL import Image\n",
    "import torch\n",
    "import matplotlib.pyplot as plt\n",
    "\n",
    "import sklearn as sk\n",
    "from sklearn.preprocessing import label_binarize\n",
    "from sklearn.model_selection import train_test_split\n",
    "from monai.apps import download_and_extract\n",
    "from monai.config import print_config\n",
    "from monai.metrics import compute_roc_auc\n",
    "from monai.networks.nets import densenet121, densenet201\n",
    "from monai.transforms import (\n",
    "    Compose,\n",
    "    LoadImage,\n",
    "    RandFlip,\n",
    "    RandRotate,\n",
    "    RandZoom,\n",
    "    ScaleIntensity,\n",
    "    ToTensor\n",
    ")\n",
    "from monai.utils import set_determinism\n",
    "\n",
    "#from data_split import data_separator, get_oversampling\n",
    "#from data_loader import load_and_preprocess_image, generate_path_dataset, augmenter\n",
    "#from model_creation import start_model, set_check_poin_saver, set_check_point_saver_regression\n",
    "#from model_evaluation import plot_model_history, get_dataset_prediction, evaluate_prediction"
   ]
  },
  {
   "cell_type": "code",
   "execution_count": 2,
   "metadata": {},
   "outputs": [
    {
     "name": "stdout",
     "output_type": "stream",
     "text": [
      "Using cuda for inference\n"
     ]
    }
   ],
   "source": [
    "device = torch.device(\"cuda\") if torch.cuda.is_available() else torch.device(\"cpu\")\n",
    "print(f'Using {device} for inference')"
   ]
  },
  {
   "cell_type": "code",
   "execution_count": 3,
   "metadata": {},
   "outputs": [
    {
     "name": "stdout",
     "output_type": "stream",
     "text": [
      "1046\n"
     ]
    },
    {
     "data": {
      "text/html": [
       "<div>\n",
       "<style scoped>\n",
       "    .dataframe tbody tr th:only-of-type {\n",
       "        vertical-align: middle;\n",
       "    }\n",
       "\n",
       "    .dataframe tbody tr th {\n",
       "        vertical-align: top;\n",
       "    }\n",
       "\n",
       "    .dataframe thead th {\n",
       "        text-align: right;\n",
       "    }\n",
       "</style>\n",
       "<table border=\"1\" class=\"dataframe\">\n",
       "  <thead>\n",
       "    <tr style=\"text-align: right;\">\n",
       "      <th></th>\n",
       "      <th>Unnamed: 0</th>\n",
       "      <th>Patient</th>\n",
       "      <th>Sex</th>\n",
       "      <th>Date of birth</th>\n",
       "      <th>PAN Date</th>\n",
       "      <th>Age at PAN</th>\n",
       "      <th>PAN Path</th>\n",
       "    </tr>\n",
       "  </thead>\n",
       "  <tbody>\n",
       "    <tr>\n",
       "      <th>0</th>\n",
       "      <td>0</td>\n",
       "      <td>SEBASTIAO ABAQUI</td>\n",
       "      <td>M</td>\n",
       "      <td>24/05/1943</td>\n",
       "      <td>25/10/2016</td>\n",
       "      <td>74.0</td>\n",
       "      <td>/home/12559743/DAVI/todos_pacientes/ABAQUI SEB...</td>\n",
       "    </tr>\n",
       "    <tr>\n",
       "      <th>1</th>\n",
       "      <td>1</td>\n",
       "      <td>ABEGAIR SOUZA SILVA</td>\n",
       "      <td>M</td>\n",
       "      <td>03/03/1981</td>\n",
       "      <td>28/09/2018</td>\n",
       "      <td>38.0</td>\n",
       "      <td>/home/12559743/DAVI/todos_pacientes/ABEGAIR SO...</td>\n",
       "    </tr>\n",
       "    <tr>\n",
       "      <th>2</th>\n",
       "      <td>2</td>\n",
       "      <td>ABEL GONCALVES DA CUNHA</td>\n",
       "      <td>M</td>\n",
       "      <td>01/03/1970</td>\n",
       "      <td>05/10/2016</td>\n",
       "      <td>47.0</td>\n",
       "      <td>/home/12559743/DAVI/todos_pacientes/ABEL GONÇA...</td>\n",
       "    </tr>\n",
       "    <tr>\n",
       "      <th>3</th>\n",
       "      <td>3</td>\n",
       "      <td>ABELARDO RODRIGUES DA SILVA</td>\n",
       "      <td>M</td>\n",
       "      <td>04/01/1977</td>\n",
       "      <td>13/11/2018</td>\n",
       "      <td>42.0</td>\n",
       "      <td>/home/12559743/DAVI/todos_pacientes/ABELARDO R...</td>\n",
       "    </tr>\n",
       "    <tr>\n",
       "      <th>4</th>\n",
       "      <td>4</td>\n",
       "      <td>JOSE BENEDITO DE ABREU</td>\n",
       "      <td>M</td>\n",
       "      <td>29/09/1938</td>\n",
       "      <td>13/04/2016</td>\n",
       "      <td>78.0</td>\n",
       "      <td>/home/12559743/DAVI/todos_pacientes/ABREU JOSE...</td>\n",
       "    </tr>\n",
       "  </tbody>\n",
       "</table>\n",
       "</div>"
      ],
      "text/plain": [
       "   Unnamed: 0                      Patient Sex Date of birth    PAN Date  \\\n",
       "0           0             SEBASTIAO ABAQUI   M    24/05/1943  25/10/2016   \n",
       "1           1          ABEGAIR SOUZA SILVA   M    03/03/1981  28/09/2018   \n",
       "2           2      ABEL GONCALVES DA CUNHA   M    01/03/1970  05/10/2016   \n",
       "3           3  ABELARDO RODRIGUES DA SILVA   M    04/01/1977  13/11/2018   \n",
       "4           4       JOSE BENEDITO DE ABREU   M    29/09/1938  13/04/2016   \n",
       "\n",
       "   Age at PAN                                           PAN Path  \n",
       "0        74.0  /home/12559743/DAVI/todos_pacientes/ABAQUI SEB...  \n",
       "1        38.0  /home/12559743/DAVI/todos_pacientes/ABEGAIR SO...  \n",
       "2        47.0  /home/12559743/DAVI/todos_pacientes/ABEL GONÇA...  \n",
       "3        42.0  /home/12559743/DAVI/todos_pacientes/ABELARDO R...  \n",
       "4        78.0  /home/12559743/DAVI/todos_pacientes/ABREU JOSE...  "
      ]
     },
     "execution_count": 3,
     "metadata": {},
     "output_type": "execute_result"
    }
   ],
   "source": [
    "df = pd.read_csv('/home/12559743/DAVI/IC/Codes/df_cropped.csv')\n",
    "#del df['Unnamed: 0']\n",
    "#df = df.sample(frac = 1, random_state=2023).reset_index(drop=True)\n",
    "df = df.dropna(axis=0)\n",
    "print(len(df))\n",
    "df.head()"
   ]
  },
  {
   "cell_type": "code",
   "execution_count": 4,
   "metadata": {},
   "outputs": [
    {
     "data": {
      "text/plain": [
       "(array([  4.,  13.,  30.,  32., 126., 203., 170., 251., 189.,  28.]),\n",
       " array([ 0. ,  9.7, 19.4, 29.1, 38.8, 48.5, 58.2, 67.9, 77.6, 87.3, 97. ]),\n",
       " <BarContainer object of 10 artists>)"
      ]
     },
     "execution_count": 4,
     "metadata": {},
     "output_type": "execute_result"
    },
    {
     "data": {
      "image/png": "[encoded data removed]",
      "text/plain": [
       "<Figure size 640x480 with 1 Axes>"
      ]
     },
     "metadata": {},
     "output_type": "display_data"
    }
   ],
   "source": [
    "plt.hist(df['Age at PAN'])"
   ]
  },
  {
   "cell_type": "code",
   "execution_count": 5,
   "metadata": {},
   "outputs": [
    {
     "name": "stdout",
     "output_type": "stream",
     "text": [
      "JOSE BENEDITO DE ABREU 16/01/2018 /home/12559743/DAVI/todos_pacientes/ABREU JOSE BENEDITO DE/JOSE BENEDITO DE ABREU- -- - - - 29-09-1938- PX from 16-01-2018 S0 I0(1)_cr.jpg\n"
     ]
    }
   ],
   "source": [
    "print(df.iloc[5]['Patient'], df.iloc[5]['PAN Date'], df.iloc[5]['PAN Path'])"
   ]
  },
  {
   "cell_type": "code",
   "execution_count": 6,
   "metadata": {},
   "outputs": [
    {
     "data": {
      "text/plain": [
       "<matplotlib.image.AxesImage at 0x7f16a57d0100>"
      ]
     },
     "execution_count": 6,
     "metadata": {},
     "output_type": "execute_result"
    },
    {
     "data": {
      "image/png": "[encoded data removed]",
      "text/plain": [
       "<Figure size 640x480 with 1 Axes>"
      ]
     },
     "metadata": {},
     "output_type": "display_data"
    }
   ],
   "source": [
    "img = plt.imread(df.iloc[5]['PAN Path'])\n",
    "plt.imshow(img)"
   ]
  },
  {
   "cell_type": "code",
   "execution_count": 7,
   "metadata": {},
   "outputs": [],
   "source": [
    "from sklearn.model_selection import train_test_split as splitter\n",
    "import random\n",
    "\n",
    "def data_separator(data, train_rate=0.70, val_rate=0.50, SEED=42):\n",
    "    \n",
    "    '''\n",
    "        Applies train, val, test split.\n",
    "    '''\n",
    "    \n",
    "    # Separando train, val and test IMAGE path list\n",
    "    \n",
    "    if not val_rate:\n",
    "        train, test = splitter(data, test_size= 1-train_rate, shuffle=True, random_state=SEED)\n",
    "        \n",
    "        return train, test\n",
    "        \n",
    "    elif val_rate:\n",
    "        train, test = splitter(data, test_size= 1-train_rate, shuffle=True, random_state=SEED)\n",
    "        \n",
    "        val, test = splitter(test, test_size= 1-val_rate, shuffle=True, random_state=SEED)\n",
    "\n",
    "        return train, val, test \n",
    "\n"
   ]
  },
  {
   "cell_type": "code",
   "execution_count": 8,
   "metadata": {},
   "outputs": [
    {
     "name": "stdout",
     "output_type": "stream",
     "text": [
      "836 105 105\n"
     ]
    }
   ],
   "source": [
    "train, val, test = data_separator(df, train_rate=.8, val_rate=.5)\n",
    "    \n",
    "print(len(train), len(val), len(test))"
   ]
  },
  {
   "cell_type": "code",
   "execution_count": 9,
   "metadata": {},
   "outputs": [
    {
     "name": "stdout",
     "output_type": "stream",
     "text": [
      "836 105 105\n"
     ]
    }
   ],
   "source": [
    "train_list = (list(train['PAN Path']), list(train['Age at PAN']))\n",
    "val_list = (list(val['PAN Path']), list(val['Age at PAN']))\n",
    "test_list = (list(test['PAN Path']), list(test['Age at PAN']))\n",
    "\n",
    "print(len(train), len(val), len(test))"
   ]
  },
  {
   "cell_type": "code",
   "execution_count": 10,
   "metadata": {},
   "outputs": [],
   "source": [
    "image_list_train =[]\n",
    "image_list_train_y = []\n",
    "\n",
    "for i in range(len(train)):\n",
    "    #print(i)\n",
    "    x = cv2.imread(train_list[0][i])\n",
    "    x = cv2.resize(x, (256, 256))\n",
    "    x = cv2.cvtColor(x, cv2.COLOR_BGR2RGB)\n",
    "    image_list_train.append(x)\n",
    "    image_list_train_y.append(train_list[1][i])\n",
    "    \n",
    "image_list_val = []\n",
    "image_list_val_y = []\n",
    "\n",
    "for i in range(len(val)):\n",
    "    #print(i)\n",
    "    x = cv2.imread(val_list[0][i])\n",
    "    x = cv2.resize(x, (256, 256))\n",
    "    X = cv2.cvtColor(x,  cv2.COLOR_BGR2RGB)\n",
    "    image_list_val.append(x)\n",
    "    image_list_val_y.append(val_list[1][i])\n",
    "    \n",
    "    \n",
    "    \n",
    "image_list_test = []\n",
    "image_list_test_y = []\n",
    "\n",
    "for i in range(len(test)):\n",
    "    #print(i)\n",
    "    x = cv2.imread(test_list[0][i])\n",
    "    x = cv2.resize(x, (256, 256))\n",
    "    x = cv2.cvtColor(x, cv2.COLOR_BGR2RGB)\n",
    "    image_list_test.append(x)\n",
    "    image_list_test_y.append(test_list[1][i])"
   ]
  },
  {
   "cell_type": "code",
   "execution_count": 11,
   "metadata": {},
   "outputs": [],
   "source": [
    "image_list_train_y = np.array(image_list_train_y)\n",
    "image_list_val_y = np.array(image_list_val_y)\n",
    "image_list_test_y = np.array(image_list_test_y)"
   ]
  },
  {
   "cell_type": "code",
   "execution_count": 12,
   "metadata": {},
   "outputs": [],
   "source": [
    "w, h , c= image_list_train[0].shape"
   ]
  },
  {
   "cell_type": "code",
   "execution_count": 13,
   "metadata": {},
   "outputs": [],
   "source": [
    "image_list_train = np.array(image_list_train)\n",
    "image_list_val = np.array(image_list_val)\n",
    "image_list_test = np.array(image_list_test)"
   ]
  },
  {
   "cell_type": "code",
   "execution_count": 14,
   "metadata": {},
   "outputs": [],
   "source": [
    "image_list_train = image_list_train.reshape((-1, w,h,3))\n",
    "image_list_val = image_list_val.reshape((-1, w,h,3))\n",
    "image_list_test = image_list_test.reshape((-1, w,h,3))"
   ]
  },
  {
   "cell_type": "code",
   "execution_count": 15,
   "metadata": {},
   "outputs": [],
   "source": [
    "from torchvision import transforms\n",
    "\n",
    "transform = transforms.Compose([\n",
    "    transforms.ToTensor()\n",
    "])\n",
    "\n",
    "image_list_train_tensor = torch.stack([transform(image) for image in image_list_train])\n",
    "image_list_val_tensor = torch.stack([transform(image) for image in image_list_val])\n",
    "image_list_test_tensor = torch.stack([transform(image) for image in image_list_test])"
   ]
  },
  {
   "cell_type": "code",
   "execution_count": 16,
   "metadata": {},
   "outputs": [
    {
     "data": {
      "text/plain": [
       "torch.Size([836, 3, 256, 256])"
      ]
     },
     "execution_count": 16,
     "metadata": {},
     "output_type": "execute_result"
    }
   ],
   "source": [
    "image_list_train_tensor.shape"
   ]
  },
  {
   "cell_type": "code",
   "execution_count": 17,
   "metadata": {},
   "outputs": [],
   "source": [
    "from torch.utils.data import Dataset, DataLoader\n",
    "\n",
    "class CustomDataset(Dataset):\n",
    "    def __init__(self, images, labels = None, transform = None):\n",
    "        self.images = images\n",
    "        self.labels = labels\n",
    "        self.transform = transform\n",
    "        \n",
    "    def __len__(self):\n",
    "        return len(self.images)\n",
    "    \n",
    "    def __getitem__(self, idx):\n",
    "        image = self.images[idx]\n",
    "        label = self.labels[idx] if self.labels is not None else None\n",
    "        \n",
    "        if self.transform:\n",
    "            image = self.transform(image)\n",
    "            \n",
    "        return image, label\n",
    "    \n",
    "def transform_image(image):\n",
    "    image = torch.tensor(image, dtype=torch.float32)\n",
    "    \n",
    "    image = image / 255.0\n",
    "    return image\n",
    "\n",
    "dataset = CustomDataset(image_list_train, image_list_train_y, transform = transform_image)"
   ]
  },
  {
   "cell_type": "code",
   "execution_count": 18,
   "metadata": {},
   "outputs": [],
   "source": [
    "batch_size = 16\n",
    "\n",
    "train_ds = CustomDataset(image_list_train_tensor, image_list_train_y, transform_image)\n",
    "train_loader = DataLoader(train_ds, batch_size=batch_size, shuffle=True, num_workers=4)\n",
    "\n",
    "val_ds = CustomDataset(image_list_val_tensor, image_list_val_y, transform_image)\n",
    "val_loader = DataLoader(val_ds, batch_size=batch_size, shuffle=True, num_workers=4)\n",
    "\n",
    "test_ds = CustomDataset(image_list_test_tensor, image_list_test_y, transform_image)\n",
    "test_loader = DataLoader(test_ds, batch_size=batch_size, shuffle=True, num_workers=4)"
   ]
  },
  {
   "cell_type": "code",
   "execution_count": 19,
   "metadata": {},
   "outputs": [],
   "source": [
    "import torch.nn as nn\n",
    "class MyModel(nn.Module):\n",
    "    def __init__(self, drop_prob = 0.2):\n",
    "        super(MyModel, self).__init__()\n",
    "        #self.flatten = nn.Flatten()\n",
    "        self.regression_model = nn.Sequential(\n",
    "            nn.Conv2d(3, 128, kernel_size=(5,5), padding=2),\n",
    "            nn.ReLU(),\n",
    "            nn.Dropout2d(drop_prob),\n",
    "            nn.Conv2d(128, 64, kernel_size=(1,1)),\n",
    "            nn.ReLU(),\n",
    "            nn.Flatten(),\n",
    "            nn.Linear(4194304, 64),\n",
    "            nn.ReLU(),\n",
    "            nn.Dropout(drop_prob),\n",
    "            nn.Linear(64,1),\n",
    "        )\n",
    "    def forward(self, x):\n",
    "        #x = self.flatten(x)\n",
    "        regression = self.regression_model(x)\n",
    "        return regression\n"
   ]
  },
  {
   "cell_type": "code",
   "execution_count": 20,
   "metadata": {},
   "outputs": [
    {
     "data": {
      "text/plain": [
       "MyModel(\n",
       "  (regression_model): Sequential(\n",
       "    (0): Conv2d(3, 128, kernel_size=(5, 5), stride=(1, 1), padding=(2, 2))\n",
       "    (1): ReLU()\n",
       "    (2): Dropout2d(p=0.2, inplace=False)\n",
       "    (3): Conv2d(128, 64, kernel_size=(1, 1), stride=(1, 1))\n",
       "    (4): ReLU()\n",
       "    (5): Flatten(start_dim=1, end_dim=-1)\n",
       "    (6): Linear(in_features=4194304, out_features=64, bias=True)\n",
       "    (7): ReLU()\n",
       "    (8): Dropout(p=0.2, inplace=False)\n",
       "    (9): Linear(in_features=64, out_features=1, bias=True)\n",
       "  )\n",
       ")"
      ]
     },
     "execution_count": 20,
     "metadata": {},
     "output_type": "execute_result"
    }
   ],
   "source": [
    "model = MyModel().to(device)\n",
    "model"
   ]
  },
  {
   "cell_type": "code",
   "execution_count": 22,
   "metadata": {},
   "outputs": [],
   "source": [
    "class Complexity:\n",
    "    def __init__(self):\n",
    "        self.bins = 100\n",
    "\n",
    "    def entropy(self, p):\n",
    "        histogram = torch.histc(p.detach(), bins=self.bins)\n",
    "        prob = histogram\n",
    "        log_prob = histogram.log()\n",
    "        plogp = prob*log_prob\n",
    "        plogp[torch.isnan(plogp)] = 0\n",
    "        return plogp.sum().detach().cpu().numpy()\n",
    "\n",
    "    def desiquilibrium(self, p):\n",
    "        histogram = torch.histc(p.detach(), bins=self.bins)\n",
    "        histogram = histogram - self.normal_prob()\n",
    "        return histogram.square().sum().cpu().numpy()\n",
    "\n",
    "    def complexity(self, p):\n",
    "        return self.entropy(p) * self.desiquilibrium(p)\n",
    "\n",
    "\n",
    "    def normal_prob(self):\n",
    "        return 1.0/self.bins\n",
    "\n",
    "def extract_model_data(model, model_data=None):\n",
    "    if model_data is None:\n",
    "        model_data = dict()\n",
    "    c = Complexity()\n",
    "    for name, param in model.named_parameters():\n",
    "        if param.requires_grad:\n",
    "            # we got a valid parameter to extract\n",
    "            if name not in model_data.keys():\n",
    "                model_data[name] = {'entropy' : list(), 'desiquilibrium' : list(), 'complexity' : list() }\n",
    "            model_data[name]['entropy'].append(c.entropy(param.data))\n",
    "            model_data[name]['desiquilibrium'].append(c.desiquilibrium(param.data))\n",
    "            model_data[name]['complexity'].append(c.complexity(param.data))\n",
    "    return model_data"
   ]
  },
  {
   "cell_type": "code",
   "execution_count": 23,
   "metadata": {},
   "outputs": [],
   "source": [
    "loss_function = nn.MSELoss()\n",
    "optimizer = torch.optim.Adam(model.parameters(),1e-4)"
   ]
  },
  {
   "cell_type": "code",
   "execution_count": 24,
   "metadata": {},
   "outputs": [
    {
     "name": "stdout",
     "output_type": "stream",
     "text": [
      "/tmp/tmp7ww9e6a5\n"
     ]
    }
   ],
   "source": [
    "import tempfile\n",
    "directory = os.environ.get(\"MONAI_DATA_DIRECTORY\")\n",
    "root_dir = tempfile.mkdtemp() if directory is None else directory\n",
    "print(root_dir)"
   ]
  },
  {
   "cell_type": "code",
   "execution_count": 24,
   "metadata": {},
   "outputs": [],
   "source": [
    "def r_squered(y_false, y_true):\n",
    "    sse=torch.sum((y_true-y_false)**2)\n",
    "    sst = torch.sum((y_true-torch.mean(y_true))**2)\n",
    "    r2 = 1 - sse/sst\n",
    "    return r2.item()"
   ]
  },
  {
   "cell_type": "code",
   "execution_count": 25,
   "metadata": {},
   "outputs": [
    {
     "name": "stdout",
     "output_type": "stream",
     "text": [
      "----------\n",
      "epoch 1/50\n"
     ]
    },
    {
     "name": "stderr",
     "output_type": "stream",
     "text": [
      "To copy construct from a tensor, it is recommended to use sourceTensor.clone().detach() or sourceTensor.clone().detach().requires_grad_(True), rather than torch.tensor(sourceTensor).\n",
      "To copy construct from a tensor, it is recommended to use sourceTensor.clone().detach() or sourceTensor.clone().detach().requires_grad_(True), rather than torch.tensor(sourceTensor).\n",
      "To copy construct from a tensor, it is recommended to use sourceTensor.clone().detach() or sourceTensor.clone().detach().requires_grad_(True), rather than torch.tensor(sourceTensor).\n",
      "To copy construct from a tensor, it is recommended to use sourceTensor.clone().detach() or sourceTensor.clone().detach().requires_grad_(True), rather than torch.tensor(sourceTensor).\n"
     ]
    },
    {
     "name": "stdout",
     "output_type": "stream",
     "text": [
      "1/52, train_loss: 3792.8591\n",
      "2/52, train_loss: 2720.3975\n",
      "3/52, train_loss: 2301.4858\n",
      "4/52, train_loss: 1171.0809\n",
      "5/52, train_loss: 504.7292\n",
      "6/52, train_loss: 388.7499\n",
      "7/52, train_loss: 573.9359\n",
      "8/52, train_loss: 377.4233\n",
      "9/52, train_loss: 650.2620\n",
      "10/52, train_loss: 1038.1991\n",
      "11/52, train_loss: 893.8752\n",
      "12/52, train_loss: 642.9485\n",
      "13/52, train_loss: 944.1666\n",
      "14/52, train_loss: 596.0585\n",
      "15/52, train_loss: 605.2391\n",
      "16/52, train_loss: 325.9622\n",
      "17/52, train_loss: 416.5635\n",
      "18/52, train_loss: 402.2503\n",
      "19/52, train_loss: 245.3850\n",
      "20/52, train_loss: 428.3777\n",
      "21/52, train_loss: 347.7526\n",
      "22/52, train_loss: 675.4266\n",
      "23/52, train_loss: 743.2417\n",
      "24/52, train_loss: 299.5618\n",
      "25/52, train_loss: 574.8152\n",
      "26/52, train_loss: 566.8976\n",
      "27/52, train_loss: 515.5490\n",
      "28/52, train_loss: 419.7110\n",
      "29/52, train_loss: 543.7082\n",
      "30/52, train_loss: 393.1402\n",
      "31/52, train_loss: 628.1582\n",
      "32/52, train_loss: 244.6119\n",
      "33/52, train_loss: 166.1577\n",
      "34/52, train_loss: 331.3273\n",
      "35/52, train_loss: 302.3102\n",
      "36/52, train_loss: 371.5560\n",
      "37/52, train_loss: 460.7378\n",
      "38/52, train_loss: 571.0077\n",
      "39/52, train_loss: 483.8963\n",
      "40/52, train_loss: 340.5243\n",
      "41/52, train_loss: 517.9900\n",
      "42/52, train_loss: 273.9447\n",
      "43/52, train_loss: 324.9260\n",
      "44/52, train_loss: 308.5552\n",
      "45/52, train_loss: 558.1683\n",
      "46/52, train_loss: 482.1995\n",
      "47/52, train_loss: 682.0105\n",
      "48/52, train_loss: 288.8317\n",
      "49/52, train_loss: 217.5524\n",
      "50/52, train_loss: 242.6240\n",
      "51/52, train_loss: 344.5623\n",
      "52/52, train_loss: 520.9247\n",
      "53/52, train_loss: 249.1667\n",
      "epoch 1 average loss: 622.8584\n"
     ]
    },
    {
     "name": "stderr",
     "output_type": "stream",
     "text": [
      "To copy construct from a tensor, it is recommended to use sourceTensor.clone().detach() or sourceTensor.clone().detach().requires_grad_(True), rather than torch.tensor(sourceTensor).\n",
      "To copy construct from a tensor, it is recommended to use sourceTensor.clone().detach() or sourceTensor.clone().detach().requires_grad_(True), rather than torch.tensor(sourceTensor).\n",
      "To copy construct from a tensor, it is recommended to use sourceTensor.clone().detach() or sourceTensor.clone().detach().requires_grad_(True), rather than torch.tensor(sourceTensor).\n",
      "To copy construct from a tensor, it is recommended to use sourceTensor.clone().detach() or sourceTensor.clone().detach().requires_grad_(True), rather than torch.tensor(sourceTensor).\n"
     ]
    },
    {
     "name": "stdout",
     "output_type": "stream",
     "text": [
      "current epoch: 1 current AUC: nan current accuracy: 0.0000 best AUC: -1.0000 at epoch: -1\n",
      "----------\n",
      "epoch 2/50\n"
     ]
    },
    {
     "name": "stderr",
     "output_type": "stream",
     "text": [
      "y values must be 0 or 1, but in [17.0, 23.0, 27.0, 31.0, 33.0, 38.0, 41.0, 42.0, 44.0, 45.0, 46.0, 47.0, 48.0, 51.0, 52.0, 53.0, 54.0, 55.0, 56.0, 57.0, 58.0, 60.0, 61.0, 62.0, 64.0, 65.0, 66.0, 67.0, 69.0, 70.0, 71.0, 72.0, 73.0, 74.0, 75.0, 76.0, 77.0, 78.0, 79.0, 80.0, 81.0, 82.0, 83.0, 85.0], skip AUC computation and return `Nan`.\n",
      "To copy construct from a tensor, it is recommended to use sourceTensor.clone().detach() or sourceTensor.clone().detach().requires_grad_(True), rather than torch.tensor(sourceTensor).\n",
      "To copy construct from a tensor, it is recommended to use sourceTensor.clone().detach() or sourceTensor.clone().detach().requires_grad_(True), rather than torch.tensor(sourceTensor).\n",
      "To copy construct from a tensor, it is recommended to use sourceTensor.clone().detach() or sourceTensor.clone().detach().requires_grad_(True), rather than torch.tensor(sourceTensor).\n",
      "To copy construct from a tensor, it is recommended to use sourceTensor.clone().detach() or sourceTensor.clone().detach().requires_grad_(True), rather than torch.tensor(sourceTensor).\n"
     ]
    },
    {
     "name": "stdout",
     "output_type": "stream",
     "text": [
      "1/52, train_loss: 187.8905\n",
      "2/52, train_loss: 319.2726\n",
      "3/52, train_loss: 409.4683\n",
      "4/52, train_loss: 349.1240\n",
      "5/52, train_loss: 299.9685\n",
      "6/52, train_loss: 266.1953\n",
      "7/52, train_loss: 414.5837\n",
      "8/52, train_loss: 325.3044\n",
      "9/52, train_loss: 544.9473\n",
      "10/52, train_loss: 133.0287\n",
      "11/52, train_loss: 278.9223\n",
      "12/52, train_loss: 427.9446\n",
      "13/52, train_loss: 325.3146\n",
      "14/52, train_loss: 416.6138\n",
      "15/52, train_loss: 349.6368\n",
      "16/52, train_loss: 265.1139\n",
      "17/52, train_loss: 367.3723\n",
      "18/52, train_loss: 343.5555\n",
      "19/52, train_loss: 323.0194\n",
      "20/52, train_loss: 318.1846\n",
      "21/52, train_loss: 314.6224\n",
      "22/52, train_loss: 638.1523\n",
      "23/52, train_loss: 531.9637\n",
      "24/52, train_loss: 218.5487\n",
      "25/52, train_loss: 327.3043\n",
      "26/52, train_loss: 429.8949\n",
      "27/52, train_loss: 196.1772\n",
      "28/52, train_loss: 170.1078\n",
      "29/52, train_loss: 323.0292\n",
      "30/52, train_loss: 233.7444\n",
      "31/52, train_loss: 444.4487\n",
      "32/52, train_loss: 186.3295\n",
      "33/52, train_loss: 238.9911\n",
      "34/52, train_loss: 694.9690\n",
      "35/52, train_loss: 299.3550\n",
      "36/52, train_loss: 287.0341\n",
      "37/52, train_loss: 160.9421\n",
      "38/52, train_loss: 351.1522\n",
      "39/52, train_loss: 773.1402\n",
      "40/52, train_loss: 275.6834\n",
      "41/52, train_loss: 466.9825\n",
      "42/52, train_loss: 232.4074\n",
      "43/52, train_loss: 381.4087\n",
      "44/52, train_loss: 337.0317\n",
      "45/52, train_loss: 315.4667\n",
      "46/52, train_loss: 323.4338\n",
      "47/52, train_loss: 286.9407\n",
      "48/52, train_loss: 332.4440\n",
      "49/52, train_loss: 287.0246\n",
      "50/52, train_loss: 530.2640\n",
      "51/52, train_loss: 155.0610\n",
      "52/52, train_loss: 401.6794\n",
      "53/52, train_loss: 780.4905\n",
      "epoch 2 average loss: 350.7865\n"
     ]
    },
    {
     "name": "stderr",
     "output_type": "stream",
     "text": [
      "To copy construct from a tensor, it is recommended to use sourceTensor.clone().detach() or sourceTensor.clone().detach().requires_grad_(True), rather than torch.tensor(sourceTensor).\n",
      "To copy construct from a tensor, it is recommended to use sourceTensor.clone().detach() or sourceTensor.clone().detach().requires_grad_(True), rather than torch.tensor(sourceTensor).\n",
      "To copy construct from a tensor, it is recommended to use sourceTensor.clone().detach() or sourceTensor.clone().detach().requires_grad_(True), rather than torch.tensor(sourceTensor).\n",
      "To copy construct from a tensor, it is recommended to use sourceTensor.clone().detach() or sourceTensor.clone().detach().requires_grad_(True), rather than torch.tensor(sourceTensor).\n"
     ]
    },
    {
     "name": "stdout",
     "output_type": "stream",
     "text": [
      "current epoch: 2 current AUC: nan current accuracy: 0.0000 best AUC: -1.0000 at epoch: -1\n",
      "----------\n",
      "epoch 3/50\n"
     ]
    },
    {
     "name": "stderr",
     "output_type": "stream",
     "text": [
      "To copy construct from a tensor, it is recommended to use sourceTensor.clone().detach() or sourceTensor.clone().detach().requires_grad_(True), rather than torch.tensor(sourceTensor).\n",
      "To copy construct from a tensor, it is recommended to use sourceTensor.clone().detach() or sourceTensor.clone().detach().requires_grad_(True), rather than torch.tensor(sourceTensor).\n",
      "To copy construct from a tensor, it is recommended to use sourceTensor.clone().detach() or sourceTensor.clone().detach().requires_grad_(True), rather than torch.tensor(sourceTensor).\n",
      "To copy construct from a tensor, it is recommended to use sourceTensor.clone().detach() or sourceTensor.clone().detach().requires_grad_(True), rather than torch.tensor(sourceTensor).\n"
     ]
    },
    {
     "name": "stdout",
     "output_type": "stream",
     "text": [
      "1/52, train_loss: 592.2396\n",
      "2/52, train_loss: 383.6947\n",
      "3/52, train_loss: 256.5019\n",
      "4/52, train_loss: 404.1532\n",
      "5/52, train_loss: 319.9418\n",
      "6/52, train_loss: 390.7811\n",
      "7/52, train_loss: 477.4110\n",
      "8/52, train_loss: 274.8494\n",
      "9/52, train_loss: 342.6742\n",
      "10/52, train_loss: 286.4607\n",
      "11/52, train_loss: 456.7115\n",
      "12/52, train_loss: 373.9187\n",
      "13/52, train_loss: 428.7953\n",
      "14/52, train_loss: 334.6597\n",
      "15/52, train_loss: 260.6189\n",
      "16/52, train_loss: 346.2408\n",
      "17/52, train_loss: 478.0334\n",
      "18/52, train_loss: 140.9166\n",
      "19/52, train_loss: 427.5559\n",
      "20/52, train_loss: 223.9619\n",
      "21/52, train_loss: 204.6013\n",
      "22/52, train_loss: 240.9991\n",
      "23/52, train_loss: 193.4801\n",
      "24/52, train_loss: 345.0497\n",
      "25/52, train_loss: 196.5583\n",
      "26/52, train_loss: 456.5921\n",
      "27/52, train_loss: 434.7312\n",
      "28/52, train_loss: 453.2982\n",
      "29/52, train_loss: 328.2806\n",
      "30/52, train_loss: 375.3948\n",
      "31/52, train_loss: 452.5915\n",
      "32/52, train_loss: 357.2503\n",
      "33/52, train_loss: 344.0018\n",
      "34/52, train_loss: 304.7275\n",
      "35/52, train_loss: 455.4784\n",
      "36/52, train_loss: 329.5770\n",
      "37/52, train_loss: 341.6862\n",
      "38/52, train_loss: 264.9395\n",
      "39/52, train_loss: 527.7832\n",
      "40/52, train_loss: 348.8297\n",
      "41/52, train_loss: 372.4489\n",
      "42/52, train_loss: 200.9526\n",
      "43/52, train_loss: 362.2786\n",
      "44/52, train_loss: 243.8386\n",
      "45/52, train_loss: 283.5866\n",
      "46/52, train_loss: 294.3782\n",
      "47/52, train_loss: 467.9438\n",
      "48/52, train_loss: 759.6536\n",
      "49/52, train_loss: 320.8321\n",
      "50/52, train_loss: 149.5367\n",
      "51/52, train_loss: 144.3783\n",
      "52/52, train_loss: 434.6817\n",
      "53/52, train_loss: 278.0826\n",
      "epoch 3 average loss: 348.4635\n"
     ]
    },
    {
     "name": "stderr",
     "output_type": "stream",
     "text": [
      "To copy construct from a tensor, it is recommended to use sourceTensor.clone().detach() or sourceTensor.clone().detach().requires_grad_(True), rather than torch.tensor(sourceTensor).\n",
      "To copy construct from a tensor, it is recommended to use sourceTensor.clone().detach() or sourceTensor.clone().detach().requires_grad_(True), rather than torch.tensor(sourceTensor).\n",
      "To copy construct from a tensor, it is recommended to use sourceTensor.clone().detach() or sourceTensor.clone().detach().requires_grad_(True), rather than torch.tensor(sourceTensor).\n",
      "To copy construct from a tensor, it is recommended to use sourceTensor.clone().detach() or sourceTensor.clone().detach().requires_grad_(True), rather than torch.tensor(sourceTensor).\n"
     ]
    },
    {
     "name": "stdout",
     "output_type": "stream",
     "text": [
      "current epoch: 3 current AUC: nan current accuracy: 0.0000 best AUC: -1.0000 at epoch: -1\n",
      "----------\n",
      "epoch 4/50\n"
     ]
    },
    {
     "name": "stderr",
     "output_type": "stream",
     "text": [
      "To copy construct from a tensor, it is recommended to use sourceTensor.clone().detach() or sourceTensor.clone().detach().requires_grad_(True), rather than torch.tensor(sourceTensor).\n",
      "To copy construct from a tensor, it is recommended to use sourceTensor.clone().detach() or sourceTensor.clone().detach().requires_grad_(True), rather than torch.tensor(sourceTensor).\n",
      "To copy construct from a tensor, it is recommended to use sourceTensor.clone().detach() or sourceTensor.clone().detach().requires_grad_(True), rather than torch.tensor(sourceTensor).\n",
      "To copy construct from a tensor, it is recommended to use sourceTensor.clone().detach() or sourceTensor.clone().detach().requires_grad_(True), rather than torch.tensor(sourceTensor).\n"
     ]
    },
    {
     "name": "stdout",
     "output_type": "stream",
     "text": [
      "1/52, train_loss: 412.2371\n",
      "2/52, train_loss: 365.9682\n",
      "3/52, train_loss: 429.2307\n",
      "4/52, train_loss: 340.5768\n",
      "5/52, train_loss: 295.1026\n",
      "6/52, train_loss: 596.5894\n",
      "7/52, train_loss: 319.7686\n",
      "8/52, train_loss: 233.3741\n",
      "9/52, train_loss: 520.5782\n",
      "10/52, train_loss: 297.9565\n",
      "11/52, train_loss: 350.0825\n",
      "12/52, train_loss: 308.1449\n",
      "13/52, train_loss: 387.3198\n",
      "14/52, train_loss: 267.5136\n",
      "15/52, train_loss: 365.9434\n",
      "16/52, train_loss: 384.2778\n",
      "17/52, train_loss: 725.5751\n",
      "18/52, train_loss: 193.0701\n",
      "19/52, train_loss: 317.3580\n",
      "20/52, train_loss: 468.0183\n",
      "21/52, train_loss: 206.3508\n",
      "22/52, train_loss: 615.3975\n",
      "23/52, train_loss: 294.7351\n",
      "24/52, train_loss: 297.0235\n",
      "25/52, train_loss: 286.6325\n",
      "26/52, train_loss: 279.6363\n",
      "27/52, train_loss: 299.3830\n",
      "28/52, train_loss: 264.0534\n",
      "29/52, train_loss: 255.8200\n",
      "30/52, train_loss: 519.7441\n",
      "31/52, train_loss: 248.5587\n",
      "32/52, train_loss: 595.5775\n",
      "33/52, train_loss: 383.1155\n",
      "34/52, train_loss: 463.3457\n",
      "35/52, train_loss: 426.7927\n",
      "36/52, train_loss: 355.9127\n",
      "37/52, train_loss: 221.2781\n",
      "38/52, train_loss: 270.2635\n",
      "39/52, train_loss: 466.0687\n",
      "40/52, train_loss: 229.7698\n",
      "41/52, train_loss: 282.8135\n",
      "42/52, train_loss: 377.6608\n",
      "43/52, train_loss: 319.4807\n",
      "44/52, train_loss: 543.2322\n",
      "45/52, train_loss: 488.0694\n",
      "46/52, train_loss: 265.5135\n",
      "47/52, train_loss: 285.1835\n",
      "48/52, train_loss: 351.8544\n",
      "49/52, train_loss: 568.1370\n",
      "50/52, train_loss: 352.4542\n",
      "51/52, train_loss: 272.9271\n",
      "52/52, train_loss: 170.0568\n",
      "53/52, train_loss: 358.2891\n",
      "epoch 4 average loss: 362.1475\n"
     ]
    },
    {
     "name": "stderr",
     "output_type": "stream",
     "text": [
      "To copy construct from a tensor, it is recommended to use sourceTensor.clone().detach() or sourceTensor.clone().detach().requires_grad_(True), rather than torch.tensor(sourceTensor).\n",
      "To copy construct from a tensor, it is recommended to use sourceTensor.clone().detach() or sourceTensor.clone().detach().requires_grad_(True), rather than torch.tensor(sourceTensor).\n",
      "To copy construct from a tensor, it is recommended to use sourceTensor.clone().detach() or sourceTensor.clone().detach().requires_grad_(True), rather than torch.tensor(sourceTensor).\n",
      "To copy construct from a tensor, it is recommended to use sourceTensor.clone().detach() or sourceTensor.clone().detach().requires_grad_(True), rather than torch.tensor(sourceTensor).\n"
     ]
    },
    {
     "name": "stdout",
     "output_type": "stream",
     "text": [
      "current epoch: 4 current AUC: nan current accuracy: 0.0000 best AUC: -1.0000 at epoch: -1\n",
      "----------\n",
      "epoch 5/50\n"
     ]
    },
    {
     "name": "stderr",
     "output_type": "stream",
     "text": [
      "To copy construct from a tensor, it is recommended to use sourceTensor.clone().detach() or sourceTensor.clone().detach().requires_grad_(True), rather than torch.tensor(sourceTensor).\n",
      "To copy construct from a tensor, it is recommended to use sourceTensor.clone().detach() or sourceTensor.clone().detach().requires_grad_(True), rather than torch.tensor(sourceTensor).\n",
      "To copy construct from a tensor, it is recommended to use sourceTensor.clone().detach() or sourceTensor.clone().detach().requires_grad_(True), rather than torch.tensor(sourceTensor).\n",
      "To copy construct from a tensor, it is recommended to use sourceTensor.clone().detach() or sourceTensor.clone().detach().requires_grad_(True), rather than torch.tensor(sourceTensor).\n"
     ]
    },
    {
     "name": "stdout",
     "output_type": "stream",
     "text": [
      "1/52, train_loss: 473.4160\n",
      "2/52, train_loss: 626.2136\n",
      "3/52, train_loss: 246.4185\n",
      "4/52, train_loss: 334.2776\n",
      "5/52, train_loss: 571.3278\n",
      "6/52, train_loss: 518.9631\n",
      "7/52, train_loss: 251.2272\n",
      "8/52, train_loss: 434.5480\n",
      "9/52, train_loss: 242.3951\n",
      "10/52, train_loss: 127.2217\n",
      "11/52, train_loss: 205.4895\n",
      "12/52, train_loss: 187.7449\n",
      "13/52, train_loss: 150.8912\n",
      "14/52, train_loss: 295.4992\n",
      "15/52, train_loss: 792.5074\n",
      "16/52, train_loss: 440.2349\n",
      "17/52, train_loss: 243.3242\n",
      "18/52, train_loss: 371.9327\n",
      "19/52, train_loss: 315.7905\n",
      "20/52, train_loss: 475.5671\n",
      "21/52, train_loss: 265.6519\n",
      "22/52, train_loss: 800.7891\n",
      "23/52, train_loss: 205.8788\n",
      "24/52, train_loss: 642.7550\n",
      "25/52, train_loss: 625.5554\n",
      "26/52, train_loss: 405.7009\n",
      "27/52, train_loss: 330.8889\n",
      "28/52, train_loss: 204.5061\n",
      "29/52, train_loss: 481.7802\n",
      "30/52, train_loss: 357.5372\n",
      "31/52, train_loss: 155.2728\n",
      "32/52, train_loss: 635.2569\n",
      "33/52, train_loss: 190.2149\n",
      "34/52, train_loss: 492.8078\n",
      "35/52, train_loss: 280.8686\n",
      "36/52, train_loss: 217.6159\n",
      "37/52, train_loss: 407.5509\n",
      "38/52, train_loss: 343.4818\n",
      "39/52, train_loss: 392.4806\n",
      "40/52, train_loss: 229.9319\n",
      "41/52, train_loss: 199.4986\n",
      "42/52, train_loss: 384.8131\n",
      "43/52, train_loss: 553.0764\n",
      "44/52, train_loss: 159.0801\n",
      "45/52, train_loss: 144.9220\n",
      "46/52, train_loss: 297.8336\n",
      "47/52, train_loss: 297.5785\n",
      "48/52, train_loss: 383.8118\n",
      "49/52, train_loss: 487.0762\n",
      "50/52, train_loss: 510.4827\n",
      "51/52, train_loss: 255.6438\n",
      "52/52, train_loss: 219.1436\n",
      "53/52, train_loss: 102.2065\n",
      "epoch 5 average loss: 357.8619\n"
     ]
    },
    {
     "name": "stderr",
     "output_type": "stream",
     "text": [
      "To copy construct from a tensor, it is recommended to use sourceTensor.clone().detach() or sourceTensor.clone().detach().requires_grad_(True), rather than torch.tensor(sourceTensor).\n",
      "To copy construct from a tensor, it is recommended to use sourceTensor.clone().detach() or sourceTensor.clone().detach().requires_grad_(True), rather than torch.tensor(sourceTensor).\n",
      "To copy construct from a tensor, it is recommended to use sourceTensor.clone().detach() or sourceTensor.clone().detach().requires_grad_(True), rather than torch.tensor(sourceTensor).\n",
      "To copy construct from a tensor, it is recommended to use sourceTensor.clone().detach() or sourceTensor.clone().detach().requires_grad_(True), rather than torch.tensor(sourceTensor).\n"
     ]
    },
    {
     "name": "stdout",
     "output_type": "stream",
     "text": [
      "current epoch: 5 current AUC: nan current accuracy: 0.0000 best AUC: -1.0000 at epoch: -1\n",
      "----------\n",
      "epoch 6/50\n"
     ]
    },
    {
     "name": "stderr",
     "output_type": "stream",
     "text": [
      "To copy construct from a tensor, it is recommended to use sourceTensor.clone().detach() or sourceTensor.clone().detach().requires_grad_(True), rather than torch.tensor(sourceTensor).\n",
      "To copy construct from a tensor, it is recommended to use sourceTensor.clone().detach() or sourceTensor.clone().detach().requires_grad_(True), rather than torch.tensor(sourceTensor).\n",
      "To copy construct from a tensor, it is recommended to use sourceTensor.clone().detach() or sourceTensor.clone().detach().requires_grad_(True), rather than torch.tensor(sourceTensor).\n",
      "To copy construct from a tensor, it is recommended to use sourceTensor.clone().detach() or sourceTensor.clone().detach().requires_grad_(True), rather than torch.tensor(sourceTensor).\n"
     ]
    },
    {
     "name": "stdout",
     "output_type": "stream",
     "text": [
      "1/52, train_loss: 330.4302\n",
      "2/52, train_loss: 487.3422\n",
      "3/52, train_loss: 604.7142\n",
      "4/52, train_loss: 242.1557\n",
      "5/52, train_loss: 549.3788\n",
      "6/52, train_loss: 548.1860\n",
      "7/52, train_loss: 156.9134\n",
      "8/52, train_loss: 416.8176\n",
      "9/52, train_loss: 346.3089\n",
      "10/52, train_loss: 192.6821\n",
      "11/52, train_loss: 296.9046\n",
      "12/52, train_loss: 417.9306\n",
      "13/52, train_loss: 307.3573\n",
      "14/52, train_loss: 221.7763\n",
      "15/52, train_loss: 324.1674\n",
      "16/52, train_loss: 210.6237\n",
      "17/52, train_loss: 326.1058\n",
      "18/52, train_loss: 267.7798\n",
      "19/52, train_loss: 393.3219\n",
      "20/52, train_loss: 369.5027\n",
      "21/52, train_loss: 675.9800\n",
      "22/52, train_loss: 178.5950\n",
      "23/52, train_loss: 337.3013\n",
      "24/52, train_loss: 569.7638\n",
      "25/52, train_loss: 242.7048\n",
      "26/52, train_loss: 433.5944\n",
      "27/52, train_loss: 782.7035\n",
      "28/52, train_loss: 325.6578\n",
      "29/52, train_loss: 276.5650\n",
      "30/52, train_loss: 247.7475\n",
      "31/52, train_loss: 534.3287\n",
      "32/52, train_loss: 269.8859\n",
      "33/52, train_loss: 440.8551\n",
      "34/52, train_loss: 538.7084\n",
      "35/52, train_loss: 549.4656\n",
      "36/52, train_loss: 472.9056\n",
      "37/52, train_loss: 179.6392\n",
      "38/52, train_loss: 159.4629\n",
      "39/52, train_loss: 405.7197\n",
      "40/52, train_loss: 219.6077\n",
      "41/52, train_loss: 264.2639\n",
      "42/52, train_loss: 166.8652\n",
      "43/52, train_loss: 315.6714\n",
      "44/52, train_loss: 435.6700\n",
      "45/52, train_loss: 266.6339\n",
      "46/52, train_loss: 165.8442\n",
      "47/52, train_loss: 175.3827\n",
      "48/52, train_loss: 275.4297\n",
      "49/52, train_loss: 261.8848\n",
      "50/52, train_loss: 266.4404\n",
      "51/52, train_loss: 271.9102\n",
      "52/52, train_loss: 308.8783\n",
      "53/52, train_loss: 152.1529\n",
      "epoch 6 average loss: 342.9928\n"
     ]
    },
    {
     "name": "stderr",
     "output_type": "stream",
     "text": [
      "To copy construct from a tensor, it is recommended to use sourceTensor.clone().detach() or sourceTensor.clone().detach().requires_grad_(True), rather than torch.tensor(sourceTensor).\n",
      "To copy construct from a tensor, it is recommended to use sourceTensor.clone().detach() or sourceTensor.clone().detach().requires_grad_(True), rather than torch.tensor(sourceTensor).\n",
      "To copy construct from a tensor, it is recommended to use sourceTensor.clone().detach() or sourceTensor.clone().detach().requires_grad_(True), rather than torch.tensor(sourceTensor).\n",
      "To copy construct from a tensor, it is recommended to use sourceTensor.clone().detach() or sourceTensor.clone().detach().requires_grad_(True), rather than torch.tensor(sourceTensor).\n"
     ]
    },
    {
     "name": "stdout",
     "output_type": "stream",
     "text": [
      "current epoch: 6 current AUC: nan current accuracy: 0.0000 best AUC: -1.0000 at epoch: -1\n",
      "----------\n",
      "epoch 7/50\n"
     ]
    },
    {
     "name": "stderr",
     "output_type": "stream",
     "text": [
      "To copy construct from a tensor, it is recommended to use sourceTensor.clone().detach() or sourceTensor.clone().detach().requires_grad_(True), rather than torch.tensor(sourceTensor).\n",
      "To copy construct from a tensor, it is recommended to use sourceTensor.clone().detach() or sourceTensor.clone().detach().requires_grad_(True), rather than torch.tensor(sourceTensor).\n",
      "To copy construct from a tensor, it is recommended to use sourceTensor.clone().detach() or sourceTensor.clone().detach().requires_grad_(True), rather than torch.tensor(sourceTensor).\n",
      "To copy construct from a tensor, it is recommended to use sourceTensor.clone().detach() or sourceTensor.clone().detach().requires_grad_(True), rather than torch.tensor(sourceTensor).\n"
     ]
    },
    {
     "name": "stdout",
     "output_type": "stream",
     "text": [
      "1/52, train_loss: 257.8513\n",
      "2/52, train_loss: 238.5620\n",
      "3/52, train_loss: 493.3620\n",
      "4/52, train_loss: 322.4239\n",
      "5/52, train_loss: 726.0006\n",
      "6/52, train_loss: 435.2726\n",
      "7/52, train_loss: 433.6927\n",
      "8/52, train_loss: 325.7677\n",
      "9/52, train_loss: 314.3879\n",
      "10/52, train_loss: 333.0117\n",
      "11/52, train_loss: 176.9294\n",
      "12/52, train_loss: 258.5839\n",
      "13/52, train_loss: 286.8648\n",
      "14/52, train_loss: 219.7018\n",
      "15/52, train_loss: 87.1295\n",
      "16/52, train_loss: 310.0591\n",
      "17/52, train_loss: 249.8178\n",
      "18/52, train_loss: 247.4459\n",
      "19/52, train_loss: 158.6879\n",
      "20/52, train_loss: 617.6505\n",
      "21/52, train_loss: 148.2749\n",
      "22/52, train_loss: 166.3734\n",
      "23/52, train_loss: 480.5096\n",
      "24/52, train_loss: 136.0493\n",
      "25/52, train_loss: 419.6448\n",
      "26/52, train_loss: 609.7645\n",
      "27/52, train_loss: 373.3702\n",
      "28/52, train_loss: 277.5789\n",
      "29/52, train_loss: 438.1201\n",
      "30/52, train_loss: 305.8111\n",
      "31/52, train_loss: 226.4224\n",
      "32/52, train_loss: 463.5230\n",
      "33/52, train_loss: 433.3694\n",
      "34/52, train_loss: 719.6902\n",
      "35/52, train_loss: 295.4962\n",
      "36/52, train_loss: 414.1282\n",
      "37/52, train_loss: 291.8857\n",
      "38/52, train_loss: 364.2908\n",
      "39/52, train_loss: 230.4654\n",
      "40/52, train_loss: 333.0331\n",
      "41/52, train_loss: 392.5797\n",
      "42/52, train_loss: 360.3275\n",
      "43/52, train_loss: 270.6305\n",
      "44/52, train_loss: 231.6672\n",
      "45/52, train_loss: 338.8737\n",
      "46/52, train_loss: 115.3049\n",
      "47/52, train_loss: 353.8132\n",
      "48/52, train_loss: 378.6811\n",
      "49/52, train_loss: 333.7179\n",
      "50/52, train_loss: 564.7708\n",
      "51/52, train_loss: 218.0257\n",
      "52/52, train_loss: 395.3697\n",
      "53/52, train_loss: 947.8976\n",
      "epoch 7 average loss: 349.4842\n"
     ]
    },
    {
     "name": "stderr",
     "output_type": "stream",
     "text": [
      "To copy construct from a tensor, it is recommended to use sourceTensor.clone().detach() or sourceTensor.clone().detach().requires_grad_(True), rather than torch.tensor(sourceTensor).\n",
      "To copy construct from a tensor, it is recommended to use sourceTensor.clone().detach() or sourceTensor.clone().detach().requires_grad_(True), rather than torch.tensor(sourceTensor).\n",
      "To copy construct from a tensor, it is recommended to use sourceTensor.clone().detach() or sourceTensor.clone().detach().requires_grad_(True), rather than torch.tensor(sourceTensor).\n",
      "To copy construct from a tensor, it is recommended to use sourceTensor.clone().detach() or sourceTensor.clone().detach().requires_grad_(True), rather than torch.tensor(sourceTensor).\n"
     ]
    },
    {
     "name": "stdout",
     "output_type": "stream",
     "text": [
      "current epoch: 7 current AUC: nan current accuracy: 0.0000 best AUC: -1.0000 at epoch: -1\n",
      "----------\n",
      "epoch 8/50\n"
     ]
    },
    {
     "name": "stderr",
     "output_type": "stream",
     "text": [
      "To copy construct from a tensor, it is recommended to use sourceTensor.clone().detach() or sourceTensor.clone().detach().requires_grad_(True), rather than torch.tensor(sourceTensor).\n",
      "To copy construct from a tensor, it is recommended to use sourceTensor.clone().detach() or sourceTensor.clone().detach().requires_grad_(True), rather than torch.tensor(sourceTensor).\n",
      "To copy construct from a tensor, it is recommended to use sourceTensor.clone().detach() or sourceTensor.clone().detach().requires_grad_(True), rather than torch.tensor(sourceTensor).\n",
      "To copy construct from a tensor, it is recommended to use sourceTensor.clone().detach() or sourceTensor.clone().detach().requires_grad_(True), rather than torch.tensor(sourceTensor).\n"
     ]
    },
    {
     "name": "stdout",
     "output_type": "stream",
     "text": [
      "1/52, train_loss: 174.1937\n",
      "2/52, train_loss: 418.9368\n",
      "3/52, train_loss: 415.6022\n",
      "4/52, train_loss: 264.3128\n",
      "5/52, train_loss: 372.4006\n",
      "6/52, train_loss: 154.5173\n",
      "7/52, train_loss: 209.0854\n",
      "8/52, train_loss: 315.1967\n",
      "9/52, train_loss: 220.3140\n",
      "10/52, train_loss: 264.0779\n",
      "11/52, train_loss: 202.0517\n",
      "12/52, train_loss: 200.2080\n",
      "13/52, train_loss: 336.8312\n",
      "14/52, train_loss: 462.6172\n",
      "15/52, train_loss: 387.0867\n",
      "16/52, train_loss: 482.9471\n",
      "17/52, train_loss: 279.9756\n",
      "18/52, train_loss: 355.9135\n",
      "19/52, train_loss: 345.0658\n",
      "20/52, train_loss: 354.9293\n",
      "21/52, train_loss: 440.4082\n",
      "22/52, train_loss: 388.6151\n",
      "23/52, train_loss: 280.4570\n",
      "24/52, train_loss: 298.5977\n",
      "25/52, train_loss: 353.6591\n",
      "26/52, train_loss: 280.9128\n",
      "27/52, train_loss: 402.9485\n",
      "28/52, train_loss: 285.9936\n",
      "29/52, train_loss: 270.3578\n",
      "30/52, train_loss: 135.0978\n",
      "31/52, train_loss: 372.0214\n",
      "32/52, train_loss: 419.5836\n",
      "33/52, train_loss: 336.4073\n",
      "34/52, train_loss: 666.4244\n",
      "35/52, train_loss: 418.9608\n",
      "36/52, train_loss: 429.9349\n",
      "37/52, train_loss: 382.1600\n",
      "38/52, train_loss: 215.4012\n",
      "39/52, train_loss: 473.9301\n",
      "40/52, train_loss: 154.9101\n",
      "41/52, train_loss: 350.8015\n",
      "42/52, train_loss: 495.4900\n",
      "43/52, train_loss: 491.3229\n",
      "44/52, train_loss: 292.3029\n",
      "45/52, train_loss: 651.5479\n",
      "46/52, train_loss: 260.6167\n",
      "47/52, train_loss: 334.9108\n",
      "48/52, train_loss: 314.9858\n",
      "49/52, train_loss: 478.7661\n",
      "50/52, train_loss: 568.7825\n",
      "51/52, train_loss: 251.1393\n",
      "52/52, train_loss: 269.2974\n",
      "53/52, train_loss: 85.9311\n",
      "epoch 8 average loss: 340.9234\n"
     ]
    },
    {
     "name": "stderr",
     "output_type": "stream",
     "text": [
      "To copy construct from a tensor, it is recommended to use sourceTensor.clone().detach() or sourceTensor.clone().detach().requires_grad_(True), rather than torch.tensor(sourceTensor).\n",
      "To copy construct from a tensor, it is recommended to use sourceTensor.clone().detach() or sourceTensor.clone().detach().requires_grad_(True), rather than torch.tensor(sourceTensor).\n",
      "To copy construct from a tensor, it is recommended to use sourceTensor.clone().detach() or sourceTensor.clone().detach().requires_grad_(True), rather than torch.tensor(sourceTensor).\n",
      "To copy construct from a tensor, it is recommended to use sourceTensor.clone().detach() or sourceTensor.clone().detach().requires_grad_(True), rather than torch.tensor(sourceTensor).\n"
     ]
    },
    {
     "name": "stdout",
     "output_type": "stream",
     "text": [
      "current epoch: 8 current AUC: nan current accuracy: 0.0000 best AUC: -1.0000 at epoch: -1\n",
      "----------\n",
      "epoch 9/50\n"
     ]
    },
    {
     "name": "stderr",
     "output_type": "stream",
     "text": [
      "To copy construct from a tensor, it is recommended to use sourceTensor.clone().detach() or sourceTensor.clone().detach().requires_grad_(True), rather than torch.tensor(sourceTensor).\n",
      "To copy construct from a tensor, it is recommended to use sourceTensor.clone().detach() or sourceTensor.clone().detach().requires_grad_(True), rather than torch.tensor(sourceTensor).\n",
      "To copy construct from a tensor, it is recommended to use sourceTensor.clone().detach() or sourceTensor.clone().detach().requires_grad_(True), rather than torch.tensor(sourceTensor).\n",
      "To copy construct from a tensor, it is recommended to use sourceTensor.clone().detach() or sourceTensor.clone().detach().requires_grad_(True), rather than torch.tensor(sourceTensor).\n"
     ]
    },
    {
     "name": "stdout",
     "output_type": "stream",
     "text": [
      "1/52, train_loss: 171.6294\n",
      "2/52, train_loss: 478.0602\n",
      "3/52, train_loss: 266.7588\n",
      "4/52, train_loss: 357.4656\n",
      "5/52, train_loss: 353.4094\n",
      "6/52, train_loss: 247.0190\n",
      "7/52, train_loss: 271.0828\n",
      "8/52, train_loss: 702.2581\n",
      "9/52, train_loss: 347.5146\n",
      "10/52, train_loss: 321.6952\n",
      "11/52, train_loss: 347.3707\n",
      "12/52, train_loss: 496.0096\n",
      "13/52, train_loss: 376.7933\n",
      "14/52, train_loss: 290.4250\n",
      "15/52, train_loss: 551.3077\n",
      "16/52, train_loss: 576.4384\n",
      "17/52, train_loss: 412.1620\n",
      "18/52, train_loss: 324.3961\n",
      "19/52, train_loss: 548.7531\n",
      "20/52, train_loss: 248.0691\n",
      "21/52, train_loss: 453.3062\n",
      "22/52, train_loss: 210.2699\n",
      "23/52, train_loss: 208.1707\n",
      "24/52, train_loss: 426.7200\n",
      "25/52, train_loss: 730.2075\n",
      "26/52, train_loss: 437.5322\n",
      "27/52, train_loss: 432.4479\n",
      "28/52, train_loss: 170.5670\n",
      "29/52, train_loss: 306.4772\n",
      "30/52, train_loss: 230.8502\n",
      "31/52, train_loss: 254.6798\n",
      "32/52, train_loss: 462.7753\n",
      "33/52, train_loss: 245.8570\n",
      "34/52, train_loss: 444.2867\n",
      "35/52, train_loss: 388.3136\n",
      "36/52, train_loss: 366.7531\n",
      "37/52, train_loss: 197.6057\n",
      "38/52, train_loss: 430.1160\n",
      "39/52, train_loss: 259.8457\n",
      "40/52, train_loss: 456.6198\n",
      "41/52, train_loss: 656.7750\n",
      "42/52, train_loss: 444.5717\n",
      "43/52, train_loss: 203.9024\n",
      "44/52, train_loss: 128.9438\n",
      "45/52, train_loss: 302.5609\n",
      "46/52, train_loss: 575.8493\n",
      "47/52, train_loss: 274.3073\n",
      "48/52, train_loss: 251.5206\n",
      "49/52, train_loss: 160.1760\n",
      "50/52, train_loss: 292.9353\n",
      "51/52, train_loss: 263.3678\n",
      "52/52, train_loss: 304.3420\n",
      "53/52, train_loss: 395.4622\n",
      "epoch 9 average loss: 359.5610\n"
     ]
    },
    {
     "name": "stderr",
     "output_type": "stream",
     "text": [
      "To copy construct from a tensor, it is recommended to use sourceTensor.clone().detach() or sourceTensor.clone().detach().requires_grad_(True), rather than torch.tensor(sourceTensor).\n",
      "To copy construct from a tensor, it is recommended to use sourceTensor.clone().detach() or sourceTensor.clone().detach().requires_grad_(True), rather than torch.tensor(sourceTensor).\n",
      "To copy construct from a tensor, it is recommended to use sourceTensor.clone().detach() or sourceTensor.clone().detach().requires_grad_(True), rather than torch.tensor(sourceTensor).\n",
      "To copy construct from a tensor, it is recommended to use sourceTensor.clone().detach() or sourceTensor.clone().detach().requires_grad_(True), rather than torch.tensor(sourceTensor).\n"
     ]
    },
    {
     "name": "stdout",
     "output_type": "stream",
     "text": [
      "current epoch: 9 current AUC: nan current accuracy: 0.0000 best AUC: -1.0000 at epoch: -1\n",
      "----------\n",
      "epoch 10/50\n"
     ]
    },
    {
     "name": "stderr",
     "output_type": "stream",
     "text": [
      "To copy construct from a tensor, it is recommended to use sourceTensor.clone().detach() or sourceTensor.clone().detach().requires_grad_(True), rather than torch.tensor(sourceTensor).\n",
      "To copy construct from a tensor, it is recommended to use sourceTensor.clone().detach() or sourceTensor.clone().detach().requires_grad_(True), rather than torch.tensor(sourceTensor).\n",
      "To copy construct from a tensor, it is recommended to use sourceTensor.clone().detach() or sourceTensor.clone().detach().requires_grad_(True), rather than torch.tensor(sourceTensor).\n",
      "To copy construct from a tensor, it is recommended to use sourceTensor.clone().detach() or sourceTensor.clone().detach().requires_grad_(True), rather than torch.tensor(sourceTensor).\n"
     ]
    },
    {
     "name": "stdout",
     "output_type": "stream",
     "text": [
      "1/52, train_loss: 252.2527\n",
      "2/52, train_loss: 262.0114\n",
      "3/52, train_loss: 334.2265\n",
      "4/52, train_loss: 488.8641\n",
      "5/52, train_loss: 441.9210\n",
      "6/52, train_loss: 317.1083\n",
      "7/52, train_loss: 134.6060\n",
      "8/52, train_loss: 384.7207\n",
      "9/52, train_loss: 450.1762\n",
      "10/52, train_loss: 317.1697\n",
      "11/52, train_loss: 303.9932\n",
      "12/52, train_loss: 257.9800\n",
      "13/52, train_loss: 313.7009\n",
      "14/52, train_loss: 249.4993\n",
      "15/52, train_loss: 313.2089\n",
      "16/52, train_loss: 328.0019\n",
      "17/52, train_loss: 435.3273\n",
      "18/52, train_loss: 401.6586\n",
      "19/52, train_loss: 139.8796\n",
      "20/52, train_loss: 275.1842\n",
      "21/52, train_loss: 530.3400\n",
      "22/52, train_loss: 519.0654\n",
      "23/52, train_loss: 193.1557\n",
      "24/52, train_loss: 289.9439\n",
      "25/52, train_loss: 240.1217\n",
      "26/52, train_loss: 375.1878\n",
      "27/52, train_loss: 315.1826\n",
      "28/52, train_loss: 587.9995\n",
      "29/52, train_loss: 245.6441\n",
      "30/52, train_loss: 149.1415\n",
      "31/52, train_loss: 470.0517\n",
      "32/52, train_loss: 321.5292\n",
      "33/52, train_loss: 450.8706\n",
      "34/52, train_loss: 272.0696\n",
      "35/52, train_loss: 226.1151\n",
      "36/52, train_loss: 329.4642\n",
      "37/52, train_loss: 584.4686\n",
      "38/52, train_loss: 253.3982\n",
      "39/52, train_loss: 250.2878\n",
      "40/52, train_loss: 344.4443\n",
      "41/52, train_loss: 227.0985\n",
      "42/52, train_loss: 214.7944\n",
      "43/52, train_loss: 340.0572\n",
      "44/52, train_loss: 426.0151\n",
      "45/52, train_loss: 362.5963\n",
      "46/52, train_loss: 336.4601\n",
      "47/52, train_loss: 230.7298\n",
      "48/52, train_loss: 415.4053\n",
      "49/52, train_loss: 270.9762\n",
      "50/52, train_loss: 478.4195\n",
      "51/52, train_loss: 622.7944\n",
      "52/52, train_loss: 599.4073\n",
      "53/52, train_loss: 78.9610\n",
      "epoch 10 average loss: 338.7488\n"
     ]
    },
    {
     "name": "stderr",
     "output_type": "stream",
     "text": [
      "To copy construct from a tensor, it is recommended to use sourceTensor.clone().detach() or sourceTensor.clone().detach().requires_grad_(True), rather than torch.tensor(sourceTensor).\n",
      "To copy construct from a tensor, it is recommended to use sourceTensor.clone().detach() or sourceTensor.clone().detach().requires_grad_(True), rather than torch.tensor(sourceTensor).\n",
      "To copy construct from a tensor, it is recommended to use sourceTensor.clone().detach() or sourceTensor.clone().detach().requires_grad_(True), rather than torch.tensor(sourceTensor).\n",
      "To copy construct from a tensor, it is recommended to use sourceTensor.clone().detach() or sourceTensor.clone().detach().requires_grad_(True), rather than torch.tensor(sourceTensor).\n"
     ]
    },
    {
     "name": "stdout",
     "output_type": "stream",
     "text": [
      "current epoch: 10 current AUC: nan current accuracy: 0.0000 best AUC: -1.0000 at epoch: -1\n",
      "----------\n",
      "epoch 11/50\n"
     ]
    },
    {
     "name": "stderr",
     "output_type": "stream",
     "text": [
      "To copy construct from a tensor, it is recommended to use sourceTensor.clone().detach() or sourceTensor.clone().detach().requires_grad_(True), rather than torch.tensor(sourceTensor).\n",
      "To copy construct from a tensor, it is recommended to use sourceTensor.clone().detach() or sourceTensor.clone().detach().requires_grad_(True), rather than torch.tensor(sourceTensor).\n",
      "To copy construct from a tensor, it is recommended to use sourceTensor.clone().detach() or sourceTensor.clone().detach().requires_grad_(True), rather than torch.tensor(sourceTensor).\n",
      "To copy construct from a tensor, it is recommended to use sourceTensor.clone().detach() or sourceTensor.clone().detach().requires_grad_(True), rather than torch.tensor(sourceTensor).\n"
     ]
    },
    {
     "name": "stdout",
     "output_type": "stream",
     "text": [
      "1/52, train_loss: 334.6967\n",
      "2/52, train_loss: 305.7681\n",
      "3/52, train_loss: 346.0100\n",
      "4/52, train_loss: 248.0249\n",
      "5/52, train_loss: 223.6031\n",
      "6/52, train_loss: 403.8553\n",
      "7/52, train_loss: 294.8738\n",
      "8/52, train_loss: 249.9930\n",
      "9/52, train_loss: 394.0463\n",
      "10/52, train_loss: 222.5577\n",
      "11/52, train_loss: 384.7154\n",
      "12/52, train_loss: 315.1274\n",
      "13/52, train_loss: 261.3380\n",
      "14/52, train_loss: 196.3054\n",
      "15/52, train_loss: 276.1001\n",
      "16/52, train_loss: 95.7433\n",
      "17/52, train_loss: 170.2648\n",
      "18/52, train_loss: 565.4481\n",
      "19/52, train_loss: 682.9384\n",
      "20/52, train_loss: 290.6981\n",
      "21/52, train_loss: 286.1976\n",
      "22/52, train_loss: 514.8106\n",
      "23/52, train_loss: 138.9902\n",
      "24/52, train_loss: 341.9320\n",
      "25/52, train_loss: 359.0705\n",
      "26/52, train_loss: 235.0056\n",
      "27/52, train_loss: 346.1275\n",
      "28/52, train_loss: 677.2510\n",
      "29/52, train_loss: 346.8517\n",
      "30/52, train_loss: 515.8892\n",
      "31/52, train_loss: 300.0634\n",
      "32/52, train_loss: 306.6910\n",
      "33/52, train_loss: 177.0688\n",
      "34/52, train_loss: 308.7135\n",
      "35/52, train_loss: 262.3171\n",
      "36/52, train_loss: 448.5306\n",
      "37/52, train_loss: 390.6321\n",
      "38/52, train_loss: 398.5615\n",
      "39/52, train_loss: 171.5474\n",
      "40/52, train_loss: 367.3984\n",
      "41/52, train_loss: 239.7803\n",
      "42/52, train_loss: 224.7557\n",
      "43/52, train_loss: 340.3286\n",
      "44/52, train_loss: 275.6978\n",
      "45/52, train_loss: 139.6754\n",
      "46/52, train_loss: 474.7142\n",
      "47/52, train_loss: 393.6528\n",
      "48/52, train_loss: 752.9954\n",
      "49/52, train_loss: 254.4768\n",
      "50/52, train_loss: 360.4042\n",
      "51/52, train_loss: 281.1917\n",
      "52/52, train_loss: 479.4185\n",
      "53/52, train_loss: 556.3170\n",
      "epoch 11 average loss: 338.2862\n"
     ]
    },
    {
     "name": "stderr",
     "output_type": "stream",
     "text": [
      "To copy construct from a tensor, it is recommended to use sourceTensor.clone().detach() or sourceTensor.clone().detach().requires_grad_(True), rather than torch.tensor(sourceTensor).\n",
      "To copy construct from a tensor, it is recommended to use sourceTensor.clone().detach() or sourceTensor.clone().detach().requires_grad_(True), rather than torch.tensor(sourceTensor).\n",
      "To copy construct from a tensor, it is recommended to use sourceTensor.clone().detach() or sourceTensor.clone().detach().requires_grad_(True), rather than torch.tensor(sourceTensor).\n",
      "To copy construct from a tensor, it is recommended to use sourceTensor.clone().detach() or sourceTensor.clone().detach().requires_grad_(True), rather than torch.tensor(sourceTensor).\n"
     ]
    },
    {
     "name": "stdout",
     "output_type": "stream",
     "text": [
      "current epoch: 11 current AUC: nan current accuracy: 0.0000 best AUC: -1.0000 at epoch: -1\n",
      "----------\n",
      "epoch 12/50\n"
     ]
    },
    {
     "name": "stderr",
     "output_type": "stream",
     "text": [
      "To copy construct from a tensor, it is recommended to use sourceTensor.clone().detach() or sourceTensor.clone().detach().requires_grad_(True), rather than torch.tensor(sourceTensor).\n",
      "To copy construct from a tensor, it is recommended to use sourceTensor.clone().detach() or sourceTensor.clone().detach().requires_grad_(True), rather than torch.tensor(sourceTensor).\n",
      "To copy construct from a tensor, it is recommended to use sourceTensor.clone().detach() or sourceTensor.clone().detach().requires_grad_(True), rather than torch.tensor(sourceTensor).\n",
      "To copy construct from a tensor, it is recommended to use sourceTensor.clone().detach() or sourceTensor.clone().detach().requires_grad_(True), rather than torch.tensor(sourceTensor).\n"
     ]
    },
    {
     "name": "stdout",
     "output_type": "stream",
     "text": [
      "1/52, train_loss: 252.4692\n",
      "2/52, train_loss: 441.3962\n",
      "3/52, train_loss: 482.5377\n",
      "4/52, train_loss: 414.7921\n",
      "5/52, train_loss: 370.0459\n",
      "6/52, train_loss: 225.5070\n",
      "7/52, train_loss: 435.2029\n",
      "8/52, train_loss: 171.9705\n",
      "9/52, train_loss: 233.0452\n",
      "10/52, train_loss: 510.4855\n",
      "11/52, train_loss: 424.0166\n",
      "12/52, train_loss: 343.1777\n",
      "13/52, train_loss: 206.0976\n",
      "14/52, train_loss: 392.9653\n",
      "15/52, train_loss: 291.8941\n",
      "16/52, train_loss: 307.1218\n",
      "17/52, train_loss: 385.1276\n",
      "18/52, train_loss: 333.0151\n",
      "19/52, train_loss: 351.3828\n",
      "20/52, train_loss: 684.2360\n",
      "21/52, train_loss: 151.3668\n",
      "22/52, train_loss: 399.2112\n",
      "23/52, train_loss: 453.5738\n",
      "24/52, train_loss: 235.1652\n",
      "25/52, train_loss: 178.0584\n",
      "26/52, train_loss: 363.1564\n",
      "27/52, train_loss: 480.4547\n",
      "28/52, train_loss: 549.7106\n",
      "29/52, train_loss: 427.8386\n",
      "30/52, train_loss: 165.3006\n",
      "31/52, train_loss: 263.0569\n",
      "32/52, train_loss: 432.3591\n",
      "33/52, train_loss: 410.9237\n",
      "34/52, train_loss: 240.0135\n",
      "35/52, train_loss: 289.6894\n",
      "36/52, train_loss: 434.2653\n",
      "37/52, train_loss: 374.8700\n",
      "38/52, train_loss: 327.3367\n",
      "39/52, train_loss: 257.5829\n",
      "40/52, train_loss: 506.2058\n",
      "41/52, train_loss: 484.4692\n",
      "42/52, train_loss: 666.2139\n",
      "43/52, train_loss: 451.1107\n",
      "44/52, train_loss: 407.0829\n",
      "45/52, train_loss: 287.6419\n",
      "46/52, train_loss: 240.9449\n",
      "47/52, train_loss: 216.4247\n",
      "48/52, train_loss: 309.5937\n",
      "49/52, train_loss: 233.3427\n",
      "50/52, train_loss: 358.5765\n",
      "51/52, train_loss: 219.0792\n",
      "52/52, train_loss: 362.7271\n",
      "53/52, train_loss: 146.8143\n",
      "epoch 12 average loss: 350.5783\n"
     ]
    },
    {
     "name": "stderr",
     "output_type": "stream",
     "text": [
      "To copy construct from a tensor, it is recommended to use sourceTensor.clone().detach() or sourceTensor.clone().detach().requires_grad_(True), rather than torch.tensor(sourceTensor).\n",
      "To copy construct from a tensor, it is recommended to use sourceTensor.clone().detach() or sourceTensor.clone().detach().requires_grad_(True), rather than torch.tensor(sourceTensor).\n",
      "To copy construct from a tensor, it is recommended to use sourceTensor.clone().detach() or sourceTensor.clone().detach().requires_grad_(True), rather than torch.tensor(sourceTensor).\n",
      "To copy construct from a tensor, it is recommended to use sourceTensor.clone().detach() or sourceTensor.clone().detach().requires_grad_(True), rather than torch.tensor(sourceTensor).\n"
     ]
    },
    {
     "name": "stdout",
     "output_type": "stream",
     "text": [
      "current epoch: 12 current AUC: nan current accuracy: 0.0000 best AUC: -1.0000 at epoch: -1\n",
      "----------\n",
      "epoch 13/50\n"
     ]
    },
    {
     "name": "stderr",
     "output_type": "stream",
     "text": [
      "To copy construct from a tensor, it is recommended to use sourceTensor.clone().detach() or sourceTensor.clone().detach().requires_grad_(True), rather than torch.tensor(sourceTensor).\n",
      "To copy construct from a tensor, it is recommended to use sourceTensor.clone().detach() or sourceTensor.clone().detach().requires_grad_(True), rather than torch.tensor(sourceTensor).\n",
      "To copy construct from a tensor, it is recommended to use sourceTensor.clone().detach() or sourceTensor.clone().detach().requires_grad_(True), rather than torch.tensor(sourceTensor).\n",
      "To copy construct from a tensor, it is recommended to use sourceTensor.clone().detach() or sourceTensor.clone().detach().requires_grad_(True), rather than torch.tensor(sourceTensor).\n"
     ]
    },
    {
     "name": "stdout",
     "output_type": "stream",
     "text": [
      "1/52, train_loss: 287.9967\n",
      "2/52, train_loss: 385.8059\n",
      "3/52, train_loss: 280.7344\n",
      "4/52, train_loss: 407.7919\n",
      "5/52, train_loss: 404.8824\n",
      "6/52, train_loss: 255.6826\n",
      "7/52, train_loss: 129.2562\n",
      "8/52, train_loss: 214.3833\n",
      "9/52, train_loss: 342.8932\n",
      "10/52, train_loss: 406.4855\n",
      "11/52, train_loss: 279.4156\n",
      "12/52, train_loss: 428.3833\n",
      "13/52, train_loss: 310.4963\n",
      "14/52, train_loss: 445.5900\n",
      "15/52, train_loss: 450.7827\n",
      "16/52, train_loss: 502.4510\n",
      "17/52, train_loss: 424.9383\n",
      "18/52, train_loss: 427.7947\n",
      "19/52, train_loss: 265.1621\n",
      "20/52, train_loss: 157.5130\n",
      "21/52, train_loss: 502.5199\n",
      "22/52, train_loss: 317.9388\n",
      "23/52, train_loss: 454.6705\n",
      "24/52, train_loss: 606.2799\n",
      "25/52, train_loss: 116.8126\n",
      "26/52, train_loss: 331.6664\n",
      "27/52, train_loss: 717.5558\n",
      "28/52, train_loss: 284.5968\n",
      "29/52, train_loss: 350.6493\n",
      "30/52, train_loss: 308.2976\n",
      "31/52, train_loss: 396.3385\n",
      "32/52, train_loss: 261.6697\n",
      "33/52, train_loss: 506.8275\n",
      "34/52, train_loss: 427.7437\n",
      "35/52, train_loss: 298.9473\n",
      "36/52, train_loss: 442.3031\n",
      "37/52, train_loss: 446.1503\n",
      "38/52, train_loss: 615.5189\n",
      "39/52, train_loss: 270.0775\n",
      "40/52, train_loss: 321.1248\n",
      "41/52, train_loss: 262.8329\n",
      "42/52, train_loss: 183.2821\n",
      "43/52, train_loss: 113.4954\n",
      "44/52, train_loss: 599.9593\n",
      "45/52, train_loss: 560.6534\n",
      "46/52, train_loss: 185.8895\n",
      "47/52, train_loss: 259.1941\n",
      "48/52, train_loss: 170.4648\n",
      "49/52, train_loss: 357.5475\n",
      "50/52, train_loss: 217.2299\n",
      "51/52, train_loss: 297.3823\n",
      "52/52, train_loss: 402.7053\n",
      "53/52, train_loss: 565.9299\n",
      "epoch 13 average loss: 357.7867\n"
     ]
    },
    {
     "name": "stderr",
     "output_type": "stream",
     "text": [
      "To copy construct from a tensor, it is recommended to use sourceTensor.clone().detach() or sourceTensor.clone().detach().requires_grad_(True), rather than torch.tensor(sourceTensor).\n",
      "To copy construct from a tensor, it is recommended to use sourceTensor.clone().detach() or sourceTensor.clone().detach().requires_grad_(True), rather than torch.tensor(sourceTensor).\n",
      "To copy construct from a tensor, it is recommended to use sourceTensor.clone().detach() or sourceTensor.clone().detach().requires_grad_(True), rather than torch.tensor(sourceTensor).\n",
      "To copy construct from a tensor, it is recommended to use sourceTensor.clone().detach() or sourceTensor.clone().detach().requires_grad_(True), rather than torch.tensor(sourceTensor).\n"
     ]
    },
    {
     "name": "stdout",
     "output_type": "stream",
     "text": [
      "current epoch: 13 current AUC: nan current accuracy: 0.0000 best AUC: -1.0000 at epoch: -1\n",
      "----------\n",
      "epoch 14/50\n"
     ]
    },
    {
     "name": "stderr",
     "output_type": "stream",
     "text": [
      "To copy construct from a tensor, it is recommended to use sourceTensor.clone().detach() or sourceTensor.clone().detach().requires_grad_(True), rather than torch.tensor(sourceTensor).\n",
      "To copy construct from a tensor, it is recommended to use sourceTensor.clone().detach() or sourceTensor.clone().detach().requires_grad_(True), rather than torch.tensor(sourceTensor).\n",
      "To copy construct from a tensor, it is recommended to use sourceTensor.clone().detach() or sourceTensor.clone().detach().requires_grad_(True), rather than torch.tensor(sourceTensor).\n",
      "To copy construct from a tensor, it is recommended to use sourceTensor.clone().detach() or sourceTensor.clone().detach().requires_grad_(True), rather than torch.tensor(sourceTensor).\n"
     ]
    },
    {
     "name": "stdout",
     "output_type": "stream",
     "text": [
      "1/52, train_loss: 356.3392\n",
      "2/52, train_loss: 301.3398\n",
      "3/52, train_loss: 295.4554\n",
      "4/52, train_loss: 295.3550\n",
      "5/52, train_loss: 315.8926\n",
      "6/52, train_loss: 464.5042\n",
      "7/52, train_loss: 222.1092\n",
      "8/52, train_loss: 317.9755\n",
      "9/52, train_loss: 152.0378\n",
      "10/52, train_loss: 173.2890\n",
      "11/52, train_loss: 340.2365\n",
      "12/52, train_loss: 279.0594\n",
      "13/52, train_loss: 163.8676\n",
      "14/52, train_loss: 174.4143\n",
      "15/52, train_loss: 229.5436\n",
      "16/52, train_loss: 145.0286\n",
      "17/52, train_loss: 216.8706\n",
      "18/52, train_loss: 334.1775\n",
      "19/52, train_loss: 253.1461\n",
      "20/52, train_loss: 460.0724\n",
      "21/52, train_loss: 299.4153\n",
      "22/52, train_loss: 141.6762\n",
      "23/52, train_loss: 614.5195\n",
      "24/52, train_loss: 438.1096\n",
      "25/52, train_loss: 346.7583\n",
      "26/52, train_loss: 477.3719\n",
      "27/52, train_loss: 317.3286\n",
      "28/52, train_loss: 279.5167\n",
      "29/52, train_loss: 278.3317\n",
      "30/52, train_loss: 296.1947\n",
      "31/52, train_loss: 667.0137\n",
      "32/52, train_loss: 333.1720\n",
      "33/52, train_loss: 243.8902\n",
      "34/52, train_loss: 437.8765\n",
      "35/52, train_loss: 320.5960\n",
      "36/52, train_loss: 252.4212\n",
      "37/52, train_loss: 293.8015\n",
      "38/52, train_loss: 599.0914\n",
      "39/52, train_loss: 294.7260\n",
      "40/52, train_loss: 246.8493\n",
      "41/52, train_loss: 396.3072\n",
      "42/52, train_loss: 317.5367\n",
      "43/52, train_loss: 580.3955\n",
      "44/52, train_loss: 362.0551\n",
      "45/52, train_loss: 331.3825\n",
      "46/52, train_loss: 511.1870\n",
      "47/52, train_loss: 303.3507\n",
      "48/52, train_loss: 372.2379\n",
      "49/52, train_loss: 323.1710\n",
      "50/52, train_loss: 259.5789\n",
      "51/52, train_loss: 291.7189\n",
      "52/52, train_loss: 178.6084\n",
      "53/52, train_loss: 522.6759\n",
      "epoch 14 average loss: 328.6713\n"
     ]
    },
    {
     "name": "stderr",
     "output_type": "stream",
     "text": [
      "To copy construct from a tensor, it is recommended to use sourceTensor.clone().detach() or sourceTensor.clone().detach().requires_grad_(True), rather than torch.tensor(sourceTensor).\n",
      "To copy construct from a tensor, it is recommended to use sourceTensor.clone().detach() or sourceTensor.clone().detach().requires_grad_(True), rather than torch.tensor(sourceTensor).\n",
      "To copy construct from a tensor, it is recommended to use sourceTensor.clone().detach() or sourceTensor.clone().detach().requires_grad_(True), rather than torch.tensor(sourceTensor).\n",
      "To copy construct from a tensor, it is recommended to use sourceTensor.clone().detach() or sourceTensor.clone().detach().requires_grad_(True), rather than torch.tensor(sourceTensor).\n"
     ]
    },
    {
     "name": "stdout",
     "output_type": "stream",
     "text": [
      "current epoch: 14 current AUC: nan current accuracy: 0.0000 best AUC: -1.0000 at epoch: -1\n",
      "----------\n",
      "epoch 15/50\n"
     ]
    },
    {
     "name": "stderr",
     "output_type": "stream",
     "text": [
      "To copy construct from a tensor, it is recommended to use sourceTensor.clone().detach() or sourceTensor.clone().detach().requires_grad_(True), rather than torch.tensor(sourceTensor).\n",
      "To copy construct from a tensor, it is recommended to use sourceTensor.clone().detach() or sourceTensor.clone().detach().requires_grad_(True), rather than torch.tensor(sourceTensor).\n",
      "To copy construct from a tensor, it is recommended to use sourceTensor.clone().detach() or sourceTensor.clone().detach().requires_grad_(True), rather than torch.tensor(sourceTensor).\n",
      "To copy construct from a tensor, it is recommended to use sourceTensor.clone().detach() or sourceTensor.clone().detach().requires_grad_(True), rather than torch.tensor(sourceTensor).\n"
     ]
    },
    {
     "name": "stdout",
     "output_type": "stream",
     "text": [
      "1/52, train_loss: 256.2867\n",
      "2/52, train_loss: 446.5133\n",
      "3/52, train_loss: 516.1042\n",
      "4/52, train_loss: 243.4371\n",
      "5/52, train_loss: 469.6596\n",
      "6/52, train_loss: 473.5536\n",
      "7/52, train_loss: 437.2186\n",
      "8/52, train_loss: 174.6757\n",
      "9/52, train_loss: 324.1566\n",
      "10/52, train_loss: 479.1241\n",
      "11/52, train_loss: 376.5717\n",
      "12/52, train_loss: 276.2072\n",
      "13/52, train_loss: 660.9364\n",
      "14/52, train_loss: 371.0366\n",
      "15/52, train_loss: 267.5669\n",
      "16/52, train_loss: 530.1553\n",
      "17/52, train_loss: 226.0211\n",
      "18/52, train_loss: 327.3726\n",
      "19/52, train_loss: 276.2775\n",
      "20/52, train_loss: 481.3444\n",
      "21/52, train_loss: 375.6037\n",
      "22/52, train_loss: 258.3446\n",
      "23/52, train_loss: 374.8170\n",
      "24/52, train_loss: 193.1484\n",
      "25/52, train_loss: 399.5116\n",
      "26/52, train_loss: 241.1995\n",
      "27/52, train_loss: 262.5695\n",
      "28/52, train_loss: 297.4925\n",
      "29/52, train_loss: 376.7531\n",
      "30/52, train_loss: 366.1496\n",
      "31/52, train_loss: 239.2254\n",
      "32/52, train_loss: 387.2307\n",
      "33/52, train_loss: 281.7121\n",
      "34/52, train_loss: 255.1203\n",
      "35/52, train_loss: 451.2914\n",
      "36/52, train_loss: 303.7927\n",
      "37/52, train_loss: 330.4859\n",
      "38/52, train_loss: 382.4053\n",
      "39/52, train_loss: 355.9613\n",
      "40/52, train_loss: 237.7156\n",
      "41/52, train_loss: 399.4851\n",
      "42/52, train_loss: 249.8254\n",
      "43/52, train_loss: 306.9053\n",
      "44/52, train_loss: 283.2575\n",
      "45/52, train_loss: 362.9969\n",
      "46/52, train_loss: 245.6530\n",
      "47/52, train_loss: 346.9344\n",
      "48/52, train_loss: 502.8540\n",
      "49/52, train_loss: 389.2809\n",
      "50/52, train_loss: 306.7382\n",
      "51/52, train_loss: 535.4738\n",
      "52/52, train_loss: 165.1938\n",
      "53/52, train_loss: 406.3412\n",
      "epoch 15 average loss: 348.7866\n"
     ]
    },
    {
     "name": "stderr",
     "output_type": "stream",
     "text": [
      "To copy construct from a tensor, it is recommended to use sourceTensor.clone().detach() or sourceTensor.clone().detach().requires_grad_(True), rather than torch.tensor(sourceTensor).\n",
      "To copy construct from a tensor, it is recommended to use sourceTensor.clone().detach() or sourceTensor.clone().detach().requires_grad_(True), rather than torch.tensor(sourceTensor).\n",
      "To copy construct from a tensor, it is recommended to use sourceTensor.clone().detach() or sourceTensor.clone().detach().requires_grad_(True), rather than torch.tensor(sourceTensor).\n",
      "To copy construct from a tensor, it is recommended to use sourceTensor.clone().detach() or sourceTensor.clone().detach().requires_grad_(True), rather than torch.tensor(sourceTensor).\n"
     ]
    },
    {
     "name": "stdout",
     "output_type": "stream",
     "text": [
      "current epoch: 15 current AUC: nan current accuracy: 0.0000 best AUC: -1.0000 at epoch: -1\n",
      "----------\n",
      "epoch 16/50\n"
     ]
    },
    {
     "name": "stderr",
     "output_type": "stream",
     "text": [
      "To copy construct from a tensor, it is recommended to use sourceTensor.clone().detach() or sourceTensor.clone().detach().requires_grad_(True), rather than torch.tensor(sourceTensor).\n",
      "To copy construct from a tensor, it is recommended to use sourceTensor.clone().detach() or sourceTensor.clone().detach().requires_grad_(True), rather than torch.tensor(sourceTensor).\n",
      "To copy construct from a tensor, it is recommended to use sourceTensor.clone().detach() or sourceTensor.clone().detach().requires_grad_(True), rather than torch.tensor(sourceTensor).\n",
      "To copy construct from a tensor, it is recommended to use sourceTensor.clone().detach() or sourceTensor.clone().detach().requires_grad_(True), rather than torch.tensor(sourceTensor).\n"
     ]
    },
    {
     "name": "stdout",
     "output_type": "stream",
     "text": [
      "1/52, train_loss: 300.4407\n",
      "2/52, train_loss: 194.1698\n",
      "3/52, train_loss: 206.0788\n",
      "4/52, train_loss: 339.3461\n",
      "5/52, train_loss: 602.2899\n",
      "6/52, train_loss: 504.1423\n",
      "7/52, train_loss: 551.9883\n",
      "8/52, train_loss: 191.8841\n",
      "9/52, train_loss: 243.0697\n",
      "10/52, train_loss: 471.8211\n",
      "11/52, train_loss: 92.6379\n",
      "12/52, train_loss: 254.9327\n",
      "13/52, train_loss: 549.8257\n",
      "14/52, train_loss: 276.7224\n",
      "15/52, train_loss: 378.4882\n",
      "16/52, train_loss: 526.7197\n",
      "17/52, train_loss: 192.3749\n",
      "18/52, train_loss: 271.2942\n",
      "19/52, train_loss: 339.1284\n",
      "20/52, train_loss: 521.2898\n",
      "21/52, train_loss: 320.2783\n",
      "22/52, train_loss: 366.6985\n",
      "23/52, train_loss: 303.7313\n",
      "24/52, train_loss: 300.6573\n",
      "25/52, train_loss: 287.3392\n",
      "26/52, train_loss: 365.2462\n",
      "27/52, train_loss: 419.6238\n",
      "28/52, train_loss: 311.0951\n",
      "29/52, train_loss: 240.0909\n",
      "30/52, train_loss: 301.5624\n",
      "31/52, train_loss: 333.4247\n",
      "32/52, train_loss: 361.0175\n",
      "33/52, train_loss: 592.5941\n",
      "34/52, train_loss: 171.9369\n",
      "35/52, train_loss: 285.4915\n",
      "36/52, train_loss: 291.7651\n",
      "37/52, train_loss: 225.3719\n",
      "38/52, train_loss: 305.5952\n",
      "39/52, train_loss: 373.2216\n",
      "40/52, train_loss: 325.3642\n",
      "41/52, train_loss: 390.2894\n",
      "42/52, train_loss: 548.1702\n",
      "43/52, train_loss: 254.3654\n",
      "44/52, train_loss: 199.6664\n",
      "45/52, train_loss: 482.0072\n",
      "46/52, train_loss: 351.7293\n",
      "47/52, train_loss: 402.4491\n",
      "48/52, train_loss: 231.4337\n",
      "49/52, train_loss: 155.5418\n",
      "50/52, train_loss: 340.7875\n",
      "51/52, train_loss: 560.9690\n",
      "52/52, train_loss: 325.4416\n",
      "53/52, train_loss: 76.5335\n",
      "epoch 16 average loss: 336.0403\n"
     ]
    },
    {
     "name": "stderr",
     "output_type": "stream",
     "text": [
      "To copy construct from a tensor, it is recommended to use sourceTensor.clone().detach() or sourceTensor.clone().detach().requires_grad_(True), rather than torch.tensor(sourceTensor).\n",
      "To copy construct from a tensor, it is recommended to use sourceTensor.clone().detach() or sourceTensor.clone().detach().requires_grad_(True), rather than torch.tensor(sourceTensor).\n",
      "To copy construct from a tensor, it is recommended to use sourceTensor.clone().detach() or sourceTensor.clone().detach().requires_grad_(True), rather than torch.tensor(sourceTensor).\n",
      "To copy construct from a tensor, it is recommended to use sourceTensor.clone().detach() or sourceTensor.clone().detach().requires_grad_(True), rather than torch.tensor(sourceTensor).\n"
     ]
    },
    {
     "name": "stdout",
     "output_type": "stream",
     "text": [
      "current epoch: 16 current AUC: nan current accuracy: 0.0000 best AUC: -1.0000 at epoch: -1\n",
      "----------\n",
      "epoch 17/50\n"
     ]
    },
    {
     "name": "stderr",
     "output_type": "stream",
     "text": [
      "To copy construct from a tensor, it is recommended to use sourceTensor.clone().detach() or sourceTensor.clone().detach().requires_grad_(True), rather than torch.tensor(sourceTensor).\n",
      "To copy construct from a tensor, it is recommended to use sourceTensor.clone().detach() or sourceTensor.clone().detach().requires_grad_(True), rather than torch.tensor(sourceTensor).\n",
      "To copy construct from a tensor, it is recommended to use sourceTensor.clone().detach() or sourceTensor.clone().detach().requires_grad_(True), rather than torch.tensor(sourceTensor).\n",
      "To copy construct from a tensor, it is recommended to use sourceTensor.clone().detach() or sourceTensor.clone().detach().requires_grad_(True), rather than torch.tensor(sourceTensor).\n"
     ]
    },
    {
     "name": "stdout",
     "output_type": "stream",
     "text": [
      "1/52, train_loss: 224.2135\n",
      "2/52, train_loss: 287.8737\n",
      "3/52, train_loss: 726.2134\n",
      "4/52, train_loss: 368.3209\n",
      "5/52, train_loss: 254.9714\n",
      "6/52, train_loss: 267.2691\n",
      "7/52, train_loss: 233.5046\n",
      "8/52, train_loss: 276.2604\n",
      "9/52, train_loss: 229.5535\n",
      "10/52, train_loss: 502.0120\n",
      "11/52, train_loss: 482.0403\n",
      "12/52, train_loss: 267.0826\n",
      "13/52, train_loss: 251.7896\n",
      "14/52, train_loss: 303.6840\n",
      "15/52, train_loss: 254.7276\n",
      "16/52, train_loss: 554.0957\n",
      "17/52, train_loss: 136.4396\n",
      "18/52, train_loss: 599.8417\n",
      "19/52, train_loss: 287.7502\n",
      "20/52, train_loss: 312.8383\n",
      "21/52, train_loss: 227.4176\n",
      "22/52, train_loss: 444.7047\n",
      "23/52, train_loss: 373.5861\n",
      "24/52, train_loss: 266.3891\n",
      "25/52, train_loss: 280.5467\n",
      "26/52, train_loss: 212.3458\n",
      "27/52, train_loss: 373.7827\n",
      "28/52, train_loss: 209.6149\n",
      "29/52, train_loss: 323.1592\n",
      "30/52, train_loss: 197.4622\n",
      "31/52, train_loss: 313.9123\n",
      "32/52, train_loss: 148.7722\n",
      "33/52, train_loss: 264.3578\n",
      "34/52, train_loss: 312.7292\n",
      "35/52, train_loss: 364.6072\n",
      "36/52, train_loss: 270.4860\n",
      "37/52, train_loss: 252.8390\n",
      "38/52, train_loss: 917.0022\n",
      "39/52, train_loss: 281.8266\n",
      "40/52, train_loss: 323.6505\n",
      "41/52, train_loss: 390.7297\n",
      "42/52, train_loss: 311.2705\n",
      "43/52, train_loss: 402.5784\n",
      "44/52, train_loss: 340.2534\n",
      "45/52, train_loss: 253.0571\n",
      "46/52, train_loss: 394.1633\n",
      "47/52, train_loss: 285.6476\n",
      "48/52, train_loss: 213.5901\n",
      "49/52, train_loss: 196.0481\n",
      "50/52, train_loss: 376.2303\n",
      "51/52, train_loss: 744.4413\n",
      "52/52, train_loss: 447.1718\n",
      "53/52, train_loss: 21.9216\n",
      "epoch 17 average loss: 331.2600\n"
     ]
    },
    {
     "name": "stderr",
     "output_type": "stream",
     "text": [
      "To copy construct from a tensor, it is recommended to use sourceTensor.clone().detach() or sourceTensor.clone().detach().requires_grad_(True), rather than torch.tensor(sourceTensor).\n",
      "To copy construct from a tensor, it is recommended to use sourceTensor.clone().detach() or sourceTensor.clone().detach().requires_grad_(True), rather than torch.tensor(sourceTensor).\n",
      "To copy construct from a tensor, it is recommended to use sourceTensor.clone().detach() or sourceTensor.clone().detach().requires_grad_(True), rather than torch.tensor(sourceTensor).\n",
      "To copy construct from a tensor, it is recommended to use sourceTensor.clone().detach() or sourceTensor.clone().detach().requires_grad_(True), rather than torch.tensor(sourceTensor).\n"
     ]
    },
    {
     "name": "stdout",
     "output_type": "stream",
     "text": [
      "current epoch: 17 current AUC: nan current accuracy: 0.0000 best AUC: -1.0000 at epoch: -1\n",
      "----------\n",
      "epoch 18/50\n"
     ]
    },
    {
     "name": "stderr",
     "output_type": "stream",
     "text": [
      "To copy construct from a tensor, it is recommended to use sourceTensor.clone().detach() or sourceTensor.clone().detach().requires_grad_(True), rather than torch.tensor(sourceTensor).\n",
      "To copy construct from a tensor, it is recommended to use sourceTensor.clone().detach() or sourceTensor.clone().detach().requires_grad_(True), rather than torch.tensor(sourceTensor).\n",
      "To copy construct from a tensor, it is recommended to use sourceTensor.clone().detach() or sourceTensor.clone().detach().requires_grad_(True), rather than torch.tensor(sourceTensor).\n",
      "To copy construct from a tensor, it is recommended to use sourceTensor.clone().detach() or sourceTensor.clone().detach().requires_grad_(True), rather than torch.tensor(sourceTensor).\n"
     ]
    },
    {
     "name": "stdout",
     "output_type": "stream",
     "text": [
      "1/52, train_loss: 578.7745\n",
      "2/52, train_loss: 222.7101\n",
      "3/52, train_loss: 329.8394\n",
      "4/52, train_loss: 507.8727\n",
      "5/52, train_loss: 299.2392\n",
      "6/52, train_loss: 565.2529\n",
      "7/52, train_loss: 945.3205\n",
      "8/52, train_loss: 266.5802\n",
      "9/52, train_loss: 251.8716\n",
      "10/52, train_loss: 284.9920\n",
      "11/52, train_loss: 377.4393\n",
      "12/52, train_loss: 347.1664\n",
      "13/52, train_loss: 340.6511\n",
      "14/52, train_loss: 491.1306\n",
      "15/52, train_loss: 334.0027\n",
      "16/52, train_loss: 151.3903\n",
      "17/52, train_loss: 230.0688\n",
      "18/52, train_loss: 565.9962\n",
      "19/52, train_loss: 400.4872\n",
      "20/52, train_loss: 442.8550\n",
      "21/52, train_loss: 235.4681\n",
      "22/52, train_loss: 286.2440\n",
      "23/52, train_loss: 320.6577\n",
      "24/52, train_loss: 219.2482\n",
      "25/52, train_loss: 228.2801\n",
      "26/52, train_loss: 217.0271\n",
      "27/52, train_loss: 272.6692\n",
      "28/52, train_loss: 209.8742\n",
      "29/52, train_loss: 203.7412\n",
      "30/52, train_loss: 590.8489\n",
      "31/52, train_loss: 184.9898\n",
      "32/52, train_loss: 285.9123\n",
      "33/52, train_loss: 292.2992\n",
      "34/52, train_loss: 360.5580\n",
      "35/52, train_loss: 443.7527\n",
      "36/52, train_loss: 510.3253\n",
      "37/52, train_loss: 412.6809\n",
      "38/52, train_loss: 316.7710\n",
      "39/52, train_loss: 331.7471\n",
      "40/52, train_loss: 237.2625\n",
      "41/52, train_loss: 135.1336\n",
      "42/52, train_loss: 363.7828\n",
      "43/52, train_loss: 321.6932\n",
      "44/52, train_loss: 308.0029\n",
      "45/52, train_loss: 126.2452\n",
      "46/52, train_loss: 423.1861\n",
      "47/52, train_loss: 263.8494\n",
      "48/52, train_loss: 255.3111\n",
      "49/52, train_loss: 284.5636\n",
      "50/52, train_loss: 358.2551\n",
      "51/52, train_loss: 303.5115\n",
      "52/52, train_loss: 344.6706\n",
      "53/52, train_loss: 107.3713\n",
      "epoch 18 average loss: 333.7656\n"
     ]
    },
    {
     "name": "stderr",
     "output_type": "stream",
     "text": [
      "To copy construct from a tensor, it is recommended to use sourceTensor.clone().detach() or sourceTensor.clone().detach().requires_grad_(True), rather than torch.tensor(sourceTensor).\n",
      "To copy construct from a tensor, it is recommended to use sourceTensor.clone().detach() or sourceTensor.clone().detach().requires_grad_(True), rather than torch.tensor(sourceTensor).\n",
      "To copy construct from a tensor, it is recommended to use sourceTensor.clone().detach() or sourceTensor.clone().detach().requires_grad_(True), rather than torch.tensor(sourceTensor).\n",
      "To copy construct from a tensor, it is recommended to use sourceTensor.clone().detach() or sourceTensor.clone().detach().requires_grad_(True), rather than torch.tensor(sourceTensor).\n"
     ]
    },
    {
     "name": "stdout",
     "output_type": "stream",
     "text": [
      "current epoch: 18 current AUC: nan current accuracy: 0.0000 best AUC: -1.0000 at epoch: -1\n",
      "----------\n",
      "epoch 19/50\n"
     ]
    },
    {
     "name": "stderr",
     "output_type": "stream",
     "text": [
      "To copy construct from a tensor, it is recommended to use sourceTensor.clone().detach() or sourceTensor.clone().detach().requires_grad_(True), rather than torch.tensor(sourceTensor).\n",
      "To copy construct from a tensor, it is recommended to use sourceTensor.clone().detach() or sourceTensor.clone().detach().requires_grad_(True), rather than torch.tensor(sourceTensor).\n",
      "To copy construct from a tensor, it is recommended to use sourceTensor.clone().detach() or sourceTensor.clone().detach().requires_grad_(True), rather than torch.tensor(sourceTensor).\n",
      "To copy construct from a tensor, it is recommended to use sourceTensor.clone().detach() or sourceTensor.clone().detach().requires_grad_(True), rather than torch.tensor(sourceTensor).\n"
     ]
    },
    {
     "name": "stdout",
     "output_type": "stream",
     "text": [
      "1/52, train_loss: 508.1548\n",
      "2/52, train_loss: 176.3670\n",
      "3/52, train_loss: 359.5212\n",
      "4/52, train_loss: 198.8039\n",
      "5/52, train_loss: 135.7251\n",
      "6/52, train_loss: 314.2515\n",
      "7/52, train_loss: 212.5900\n",
      "8/52, train_loss: 714.9596\n",
      "9/52, train_loss: 334.8807\n",
      "10/52, train_loss: 619.1282\n",
      "11/52, train_loss: 252.4607\n",
      "12/52, train_loss: 345.5993\n",
      "13/52, train_loss: 408.5663\n",
      "14/52, train_loss: 408.7218\n",
      "15/52, train_loss: 437.3645\n",
      "16/52, train_loss: 315.8218\n",
      "17/52, train_loss: 612.5155\n",
      "18/52, train_loss: 576.2946\n",
      "19/52, train_loss: 303.9308\n",
      "20/52, train_loss: 491.0399\n",
      "21/52, train_loss: 511.5033\n",
      "22/52, train_loss: 801.8401\n",
      "23/52, train_loss: 227.9525\n",
      "24/52, train_loss: 278.9866\n",
      "25/52, train_loss: 384.8999\n",
      "26/52, train_loss: 312.2241\n",
      "27/52, train_loss: 225.1421\n",
      "28/52, train_loss: 237.5484\n",
      "29/52, train_loss: 311.1494\n",
      "30/52, train_loss: 190.4918\n",
      "31/52, train_loss: 191.1269\n",
      "32/52, train_loss: 397.2157\n",
      "33/52, train_loss: 246.2978\n",
      "34/52, train_loss: 329.0122\n",
      "35/52, train_loss: 556.2048\n",
      "36/52, train_loss: 326.3783\n",
      "37/52, train_loss: 312.5261\n",
      "38/52, train_loss: 270.5989\n",
      "39/52, train_loss: 139.5362\n",
      "40/52, train_loss: 617.4208\n",
      "41/52, train_loss: 306.6748\n",
      "42/52, train_loss: 189.1853\n",
      "43/52, train_loss: 387.4892\n",
      "44/52, train_loss: 632.2109\n",
      "45/52, train_loss: 310.9490\n",
      "46/52, train_loss: 228.7599\n",
      "47/52, train_loss: 253.0723\n",
      "48/52, train_loss: 263.7410\n",
      "49/52, train_loss: 427.3319\n",
      "50/52, train_loss: 363.4885\n",
      "51/52, train_loss: 375.0734\n",
      "52/52, train_loss: 534.7538\n",
      "53/52, train_loss: 367.7255\n",
      "epoch 19 average loss: 362.9285\n"
     ]
    },
    {
     "name": "stderr",
     "output_type": "stream",
     "text": [
      "To copy construct from a tensor, it is recommended to use sourceTensor.clone().detach() or sourceTensor.clone().detach().requires_grad_(True), rather than torch.tensor(sourceTensor).\n",
      "To copy construct from a tensor, it is recommended to use sourceTensor.clone().detach() or sourceTensor.clone().detach().requires_grad_(True), rather than torch.tensor(sourceTensor).\n",
      "To copy construct from a tensor, it is recommended to use sourceTensor.clone().detach() or sourceTensor.clone().detach().requires_grad_(True), rather than torch.tensor(sourceTensor).\n",
      "To copy construct from a tensor, it is recommended to use sourceTensor.clone().detach() or sourceTensor.clone().detach().requires_grad_(True), rather than torch.tensor(sourceTensor).\n"
     ]
    },
    {
     "name": "stdout",
     "output_type": "stream",
     "text": [
      "current epoch: 19 current AUC: nan current accuracy: 0.0000 best AUC: -1.0000 at epoch: -1\n",
      "----------\n",
      "epoch 20/50\n"
     ]
    },
    {
     "name": "stderr",
     "output_type": "stream",
     "text": [
      "To copy construct from a tensor, it is recommended to use sourceTensor.clone().detach() or sourceTensor.clone().detach().requires_grad_(True), rather than torch.tensor(sourceTensor).\n",
      "To copy construct from a tensor, it is recommended to use sourceTensor.clone().detach() or sourceTensor.clone().detach().requires_grad_(True), rather than torch.tensor(sourceTensor).\n",
      "To copy construct from a tensor, it is recommended to use sourceTensor.clone().detach() or sourceTensor.clone().detach().requires_grad_(True), rather than torch.tensor(sourceTensor).\n",
      "To copy construct from a tensor, it is recommended to use sourceTensor.clone().detach() or sourceTensor.clone().detach().requires_grad_(True), rather than torch.tensor(sourceTensor).\n"
     ]
    },
    {
     "name": "stdout",
     "output_type": "stream",
     "text": [
      "1/52, train_loss: 341.4078\n",
      "2/52, train_loss: 516.4762\n",
      "3/52, train_loss: 620.5452\n",
      "4/52, train_loss: 268.5911\n",
      "5/52, train_loss: 306.1458\n",
      "6/52, train_loss: 599.7731\n",
      "7/52, train_loss: 524.0989\n",
      "8/52, train_loss: 227.4604\n",
      "9/52, train_loss: 249.8299\n",
      "10/52, train_loss: 231.3269\n",
      "11/52, train_loss: 283.4855\n",
      "12/52, train_loss: 387.9360\n",
      "13/52, train_loss: 156.5289\n",
      "14/52, train_loss: 446.9081\n",
      "15/52, train_loss: 192.2056\n",
      "16/52, train_loss: 551.7971\n",
      "17/52, train_loss: 153.7237\n",
      "18/52, train_loss: 230.9771\n",
      "19/52, train_loss: 531.4403\n",
      "20/52, train_loss: 225.2313\n",
      "21/52, train_loss: 288.6353\n",
      "22/52, train_loss: 431.0894\n",
      "23/52, train_loss: 295.1938\n",
      "24/52, train_loss: 307.5307\n",
      "25/52, train_loss: 847.8290\n",
      "26/52, train_loss: 490.5288\n",
      "27/52, train_loss: 407.0401\n",
      "28/52, train_loss: 360.3937\n",
      "29/52, train_loss: 338.1407\n",
      "30/52, train_loss: 215.8024\n",
      "31/52, train_loss: 244.0921\n",
      "32/52, train_loss: 504.9304\n",
      "33/52, train_loss: 474.9355\n",
      "34/52, train_loss: 204.0428\n",
      "35/52, train_loss: 254.5424\n",
      "36/52, train_loss: 244.5218\n",
      "37/52, train_loss: 367.6992\n",
      "38/52, train_loss: 385.2025\n",
      "39/52, train_loss: 263.5399\n",
      "40/52, train_loss: 354.5657\n",
      "41/52, train_loss: 240.7460\n",
      "42/52, train_loss: 181.9985\n",
      "43/52, train_loss: 217.2048\n",
      "44/52, train_loss: 625.7703\n",
      "45/52, train_loss: 168.1642\n",
      "46/52, train_loss: 411.8600\n",
      "47/52, train_loss: 355.9554\n",
      "48/52, train_loss: 347.7500\n",
      "49/52, train_loss: 292.6092\n",
      "50/52, train_loss: 315.1234\n",
      "51/52, train_loss: 337.0163\n",
      "52/52, train_loss: 195.6161\n",
      "53/52, train_loss: 526.3364\n",
      "epoch 20 average loss: 349.8546\n"
     ]
    },
    {
     "name": "stderr",
     "output_type": "stream",
     "text": [
      "To copy construct from a tensor, it is recommended to use sourceTensor.clone().detach() or sourceTensor.clone().detach().requires_grad_(True), rather than torch.tensor(sourceTensor).\n",
      "To copy construct from a tensor, it is recommended to use sourceTensor.clone().detach() or sourceTensor.clone().detach().requires_grad_(True), rather than torch.tensor(sourceTensor).\n",
      "To copy construct from a tensor, it is recommended to use sourceTensor.clone().detach() or sourceTensor.clone().detach().requires_grad_(True), rather than torch.tensor(sourceTensor).\n",
      "To copy construct from a tensor, it is recommended to use sourceTensor.clone().detach() or sourceTensor.clone().detach().requires_grad_(True), rather than torch.tensor(sourceTensor).\n"
     ]
    },
    {
     "name": "stdout",
     "output_type": "stream",
     "text": [
      "current epoch: 20 current AUC: nan current accuracy: 0.0000 best AUC: -1.0000 at epoch: -1\n",
      "----------\n",
      "epoch 21/50\n"
     ]
    },
    {
     "name": "stderr",
     "output_type": "stream",
     "text": [
      "To copy construct from a tensor, it is recommended to use sourceTensor.clone().detach() or sourceTensor.clone().detach().requires_grad_(True), rather than torch.tensor(sourceTensor).\n",
      "To copy construct from a tensor, it is recommended to use sourceTensor.clone().detach() or sourceTensor.clone().detach().requires_grad_(True), rather than torch.tensor(sourceTensor).\n",
      "To copy construct from a tensor, it is recommended to use sourceTensor.clone().detach() or sourceTensor.clone().detach().requires_grad_(True), rather than torch.tensor(sourceTensor).\n",
      "To copy construct from a tensor, it is recommended to use sourceTensor.clone().detach() or sourceTensor.clone().detach().requires_grad_(True), rather than torch.tensor(sourceTensor).\n"
     ]
    },
    {
     "name": "stdout",
     "output_type": "stream",
     "text": [
      "1/52, train_loss: 182.6019\n",
      "2/52, train_loss: 253.0070\n",
      "3/52, train_loss: 373.6141\n",
      "4/52, train_loss: 504.2932\n",
      "5/52, train_loss: 260.5696\n",
      "6/52, train_loss: 684.2668\n",
      "7/52, train_loss: 332.8551\n",
      "8/52, train_loss: 176.5914\n",
      "9/52, train_loss: 407.6469\n",
      "10/52, train_loss: 412.9762\n",
      "11/52, train_loss: 418.2051\n",
      "12/52, train_loss: 477.6484\n",
      "13/52, train_loss: 211.0722\n",
      "14/52, train_loss: 365.9459\n",
      "15/52, train_loss: 386.6202\n",
      "16/52, train_loss: 556.1414\n",
      "17/52, train_loss: 331.1605\n",
      "18/52, train_loss: 234.3797\n",
      "19/52, train_loss: 222.4679\n",
      "20/52, train_loss: 233.7374\n",
      "21/52, train_loss: 384.6956\n",
      "22/52, train_loss: 230.3590\n",
      "23/52, train_loss: 362.8218\n",
      "24/52, train_loss: 192.4157\n",
      "25/52, train_loss: 313.7587\n",
      "26/52, train_loss: 330.5142\n",
      "27/52, train_loss: 187.0903\n",
      "28/52, train_loss: 221.1433\n",
      "29/52, train_loss: 241.8252\n",
      "30/52, train_loss: 250.3524\n",
      "31/52, train_loss: 558.2593\n",
      "32/52, train_loss: 344.0653\n",
      "33/52, train_loss: 345.7911\n",
      "34/52, train_loss: 473.1264\n",
      "35/52, train_loss: 388.5497\n",
      "36/52, train_loss: 289.8040\n",
      "37/52, train_loss: 283.8945\n",
      "38/52, train_loss: 93.8143\n",
      "39/52, train_loss: 468.0246\n",
      "40/52, train_loss: 382.1100\n",
      "41/52, train_loss: 220.0387\n",
      "42/52, train_loss: 174.3937\n",
      "43/52, train_loss: 339.3833\n",
      "44/52, train_loss: 274.4144\n",
      "45/52, train_loss: 193.0689\n",
      "46/52, train_loss: 286.4017\n",
      "47/52, train_loss: 695.5063\n",
      "48/52, train_loss: 138.9580\n",
      "49/52, train_loss: 241.5892\n",
      "50/52, train_loss: 432.1534\n",
      "51/52, train_loss: 420.9559\n",
      "52/52, train_loss: 325.6856\n",
      "53/52, train_loss: 153.3031\n",
      "epoch 21 average loss: 325.7371\n"
     ]
    },
    {
     "name": "stderr",
     "output_type": "stream",
     "text": [
      "To copy construct from a tensor, it is recommended to use sourceTensor.clone().detach() or sourceTensor.clone().detach().requires_grad_(True), rather than torch.tensor(sourceTensor).\n",
      "To copy construct from a tensor, it is recommended to use sourceTensor.clone().detach() or sourceTensor.clone().detach().requires_grad_(True), rather than torch.tensor(sourceTensor).\n",
      "To copy construct from a tensor, it is recommended to use sourceTensor.clone().detach() or sourceTensor.clone().detach().requires_grad_(True), rather than torch.tensor(sourceTensor).\n",
      "To copy construct from a tensor, it is recommended to use sourceTensor.clone().detach() or sourceTensor.clone().detach().requires_grad_(True), rather than torch.tensor(sourceTensor).\n"
     ]
    },
    {
     "name": "stdout",
     "output_type": "stream",
     "text": [
      "current epoch: 21 current AUC: nan current accuracy: 0.0000 best AUC: -1.0000 at epoch: -1\n",
      "----------\n",
      "epoch 22/50\n"
     ]
    },
    {
     "name": "stderr",
     "output_type": "stream",
     "text": [
      "To copy construct from a tensor, it is recommended to use sourceTensor.clone().detach() or sourceTensor.clone().detach().requires_grad_(True), rather than torch.tensor(sourceTensor).\n",
      "To copy construct from a tensor, it is recommended to use sourceTensor.clone().detach() or sourceTensor.clone().detach().requires_grad_(True), rather than torch.tensor(sourceTensor).\n",
      "To copy construct from a tensor, it is recommended to use sourceTensor.clone().detach() or sourceTensor.clone().detach().requires_grad_(True), rather than torch.tensor(sourceTensor).\n",
      "To copy construct from a tensor, it is recommended to use sourceTensor.clone().detach() or sourceTensor.clone().detach().requires_grad_(True), rather than torch.tensor(sourceTensor).\n"
     ]
    },
    {
     "name": "stdout",
     "output_type": "stream",
     "text": [
      "1/52, train_loss: 135.7990\n",
      "2/52, train_loss: 238.7469\n",
      "3/52, train_loss: 440.5985\n",
      "4/52, train_loss: 309.1217\n",
      "5/52, train_loss: 385.7779\n",
      "6/52, train_loss: 274.4984\n",
      "7/52, train_loss: 409.8224\n",
      "8/52, train_loss: 423.8602\n",
      "9/52, train_loss: 310.5057\n",
      "10/52, train_loss: 240.3484\n",
      "11/52, train_loss: 304.7295\n",
      "12/52, train_loss: 103.9984\n",
      "13/52, train_loss: 607.5383\n",
      "14/52, train_loss: 531.7696\n",
      "15/52, train_loss: 203.0574\n",
      "16/52, train_loss: 359.3765\n",
      "17/52, train_loss: 156.2115\n",
      "18/52, train_loss: 231.7661\n",
      "19/52, train_loss: 317.8975\n",
      "20/52, train_loss: 539.0664\n",
      "21/52, train_loss: 350.9874\n",
      "22/52, train_loss: 351.7924\n",
      "23/52, train_loss: 425.4911\n",
      "24/52, train_loss: 314.4074\n",
      "25/52, train_loss: 197.6456\n",
      "26/52, train_loss: 133.3475\n",
      "27/52, train_loss: 322.8157\n",
      "28/52, train_loss: 359.6340\n",
      "29/52, train_loss: 150.9674\n",
      "30/52, train_loss: 362.5864\n",
      "31/52, train_loss: 433.7855\n",
      "32/52, train_loss: 461.3105\n",
      "33/52, train_loss: 465.8262\n",
      "34/52, train_loss: 279.9489\n",
      "35/52, train_loss: 377.2476\n",
      "36/52, train_loss: 143.4267\n",
      "37/52, train_loss: 404.9875\n",
      "38/52, train_loss: 85.6937\n",
      "39/52, train_loss: 215.0520\n",
      "40/52, train_loss: 573.8376\n",
      "41/52, train_loss: 130.7318\n",
      "42/52, train_loss: 196.1330\n",
      "43/52, train_loss: 376.5581\n",
      "44/52, train_loss: 742.8290\n",
      "45/52, train_loss: 256.4918\n",
      "46/52, train_loss: 627.9786\n",
      "47/52, train_loss: 516.4468\n",
      "48/52, train_loss: 214.9789\n",
      "49/52, train_loss: 369.2811\n",
      "50/52, train_loss: 355.0065\n",
      "51/52, train_loss: 475.8289\n",
      "52/52, train_loss: 304.3806\n",
      "53/52, train_loss: 240.7188\n",
      "epoch 22 average loss: 334.7669\n"
     ]
    },
    {
     "name": "stderr",
     "output_type": "stream",
     "text": [
      "To copy construct from a tensor, it is recommended to use sourceTensor.clone().detach() or sourceTensor.clone().detach().requires_grad_(True), rather than torch.tensor(sourceTensor).\n",
      "To copy construct from a tensor, it is recommended to use sourceTensor.clone().detach() or sourceTensor.clone().detach().requires_grad_(True), rather than torch.tensor(sourceTensor).\n",
      "To copy construct from a tensor, it is recommended to use sourceTensor.clone().detach() or sourceTensor.clone().detach().requires_grad_(True), rather than torch.tensor(sourceTensor).\n",
      "To copy construct from a tensor, it is recommended to use sourceTensor.clone().detach() or sourceTensor.clone().detach().requires_grad_(True), rather than torch.tensor(sourceTensor).\n"
     ]
    },
    {
     "name": "stdout",
     "output_type": "stream",
     "text": [
      "current epoch: 22 current AUC: nan current accuracy: 0.0000 best AUC: -1.0000 at epoch: -1\n",
      "----------\n",
      "epoch 23/50\n"
     ]
    },
    {
     "name": "stderr",
     "output_type": "stream",
     "text": [
      "To copy construct from a tensor, it is recommended to use sourceTensor.clone().detach() or sourceTensor.clone().detach().requires_grad_(True), rather than torch.tensor(sourceTensor).\n",
      "To copy construct from a tensor, it is recommended to use sourceTensor.clone().detach() or sourceTensor.clone().detach().requires_grad_(True), rather than torch.tensor(sourceTensor).\n",
      "To copy construct from a tensor, it is recommended to use sourceTensor.clone().detach() or sourceTensor.clone().detach().requires_grad_(True), rather than torch.tensor(sourceTensor).\n",
      "To copy construct from a tensor, it is recommended to use sourceTensor.clone().detach() or sourceTensor.clone().detach().requires_grad_(True), rather than torch.tensor(sourceTensor).\n"
     ]
    },
    {
     "name": "stdout",
     "output_type": "stream",
     "text": [
      "1/52, train_loss: 260.8168\n",
      "2/52, train_loss: 290.5670\n",
      "3/52, train_loss: 263.7692\n",
      "4/52, train_loss: 444.4279\n",
      "5/52, train_loss: 365.0339\n",
      "6/52, train_loss: 264.4053\n",
      "7/52, train_loss: 402.5685\n",
      "8/52, train_loss: 207.3453\n",
      "9/52, train_loss: 309.8636\n",
      "10/52, train_loss: 449.0388\n",
      "11/52, train_loss: 143.7135\n",
      "12/52, train_loss: 228.6173\n",
      "13/52, train_loss: 138.2992\n",
      "14/52, train_loss: 319.7075\n",
      "15/52, train_loss: 353.7952\n",
      "16/52, train_loss: 299.0490\n",
      "17/52, train_loss: 243.0017\n",
      "18/52, train_loss: 486.2740\n",
      "19/52, train_loss: 699.5886\n",
      "20/52, train_loss: 286.0150\n",
      "21/52, train_loss: 347.4666\n",
      "22/52, train_loss: 229.6029\n",
      "23/52, train_loss: 394.6687\n",
      "24/52, train_loss: 358.7944\n",
      "25/52, train_loss: 395.8748\n",
      "26/52, train_loss: 229.3065\n",
      "27/52, train_loss: 444.8408\n",
      "28/52, train_loss: 423.4291\n",
      "29/52, train_loss: 301.4141\n",
      "30/52, train_loss: 455.7883\n",
      "31/52, train_loss: 199.7447\n",
      "32/52, train_loss: 490.9192\n",
      "33/52, train_loss: 192.7018\n",
      "34/52, train_loss: 281.2283\n",
      "35/52, train_loss: 385.8108\n",
      "36/52, train_loss: 189.4546\n",
      "37/52, train_loss: 242.6796\n",
      "38/52, train_loss: 313.3182\n",
      "39/52, train_loss: 234.3565\n",
      "40/52, train_loss: 230.4332\n",
      "41/52, train_loss: 403.8024\n",
      "42/52, train_loss: 437.7749\n",
      "43/52, train_loss: 265.5987\n",
      "44/52, train_loss: 735.1175\n",
      "45/52, train_loss: 406.7400\n",
      "46/52, train_loss: 440.3959\n",
      "47/52, train_loss: 345.5980\n",
      "48/52, train_loss: 208.8251\n",
      "49/52, train_loss: 486.3409\n",
      "50/52, train_loss: 236.1253\n",
      "51/52, train_loss: 417.9446\n",
      "52/52, train_loss: 349.7289\n",
      "53/52, train_loss: 909.0895\n",
      "epoch 23 average loss: 347.9399\n"
     ]
    },
    {
     "name": "stderr",
     "output_type": "stream",
     "text": [
      "To copy construct from a tensor, it is recommended to use sourceTensor.clone().detach() or sourceTensor.clone().detach().requires_grad_(True), rather than torch.tensor(sourceTensor).\n",
      "To copy construct from a tensor, it is recommended to use sourceTensor.clone().detach() or sourceTensor.clone().detach().requires_grad_(True), rather than torch.tensor(sourceTensor).\n",
      "To copy construct from a tensor, it is recommended to use sourceTensor.clone().detach() or sourceTensor.clone().detach().requires_grad_(True), rather than torch.tensor(sourceTensor).\n",
      "To copy construct from a tensor, it is recommended to use sourceTensor.clone().detach() or sourceTensor.clone().detach().requires_grad_(True), rather than torch.tensor(sourceTensor).\n"
     ]
    },
    {
     "name": "stdout",
     "output_type": "stream",
     "text": [
      "current epoch: 23 current AUC: nan current accuracy: 0.0000 best AUC: -1.0000 at epoch: -1\n",
      "----------\n",
      "epoch 24/50\n"
     ]
    },
    {
     "name": "stderr",
     "output_type": "stream",
     "text": [
      "To copy construct from a tensor, it is recommended to use sourceTensor.clone().detach() or sourceTensor.clone().detach().requires_grad_(True), rather than torch.tensor(sourceTensor).\n",
      "To copy construct from a tensor, it is recommended to use sourceTensor.clone().detach() or sourceTensor.clone().detach().requires_grad_(True), rather than torch.tensor(sourceTensor).\n",
      "To copy construct from a tensor, it is recommended to use sourceTensor.clone().detach() or sourceTensor.clone().detach().requires_grad_(True), rather than torch.tensor(sourceTensor).\n",
      "To copy construct from a tensor, it is recommended to use sourceTensor.clone().detach() or sourceTensor.clone().detach().requires_grad_(True), rather than torch.tensor(sourceTensor).\n"
     ]
    },
    {
     "name": "stdout",
     "output_type": "stream",
     "text": [
      "1/52, train_loss: 343.8013\n",
      "2/52, train_loss: 323.1223\n",
      "3/52, train_loss: 436.4707\n",
      "4/52, train_loss: 216.3057\n",
      "5/52, train_loss: 264.4187\n",
      "6/52, train_loss: 226.7820\n",
      "7/52, train_loss: 202.7648\n",
      "8/52, train_loss: 397.6848\n",
      "9/52, train_loss: 345.9825\n",
      "10/52, train_loss: 401.7016\n"
     ]
    },
    {
     "ename": "KeyboardInterrupt",
     "evalue": "",
     "output_type": "error",
     "traceback": [
      "\u001b[0;31m---------------------------------------------------------------------------\u001b[0m",
      "\u001b[0;31mKeyboardInterrupt\u001b[0m                         Traceback (most recent call last)",
      "Cell \u001b[0;32mIn[25], line 46\u001b[0m\n\u001b[1;32m     44\u001b[0m     single_complexity\u001b[38;5;241m.\u001b[39mappend(Complexity()\u001b[38;5;241m.\u001b[39mcomplexity(myp))\n\u001b[1;32m     45\u001b[0m     single_entropy\u001b[38;5;241m.\u001b[39mappend(Complexity()\u001b[38;5;241m.\u001b[39mentropy(myp))\n\u001b[0;32m---> 46\u001b[0m     single_disequilibrium\u001b[38;5;241m.\u001b[39mappend(\u001b[43mComplexity\u001b[49m\u001b[43m(\u001b[49m\u001b[43m)\u001b[49m\u001b[38;5;241;43m.\u001b[39;49m\u001b[43mdesiquilibrium\u001b[49m\u001b[43m(\u001b[49m\u001b[43mmyp\u001b[49m\u001b[43m)\u001b[49m)\n\u001b[1;32m     47\u001b[0m     single_loss\u001b[38;5;241m.\u001b[39mappend(loss\u001b[38;5;241m.\u001b[39mitem())\n\u001b[1;32m     49\u001b[0m epoch_loss \u001b[38;5;241m/\u001b[39m\u001b[38;5;241m=\u001b[39m step\n",
      "Cell \u001b[0;32mIn[22], line 16\u001b[0m, in \u001b[0;36mComplexity.desiquilibrium\u001b[0;34m(self, p)\u001b[0m\n\u001b[1;32m     14\u001b[0m histogram \u001b[38;5;241m=\u001b[39m torch\u001b[38;5;241m.\u001b[39mhistc(p\u001b[38;5;241m.\u001b[39mdetach(), bins\u001b[38;5;241m=\u001b[39m\u001b[38;5;28mself\u001b[39m\u001b[38;5;241m.\u001b[39mbins)\n\u001b[1;32m     15\u001b[0m histogram \u001b[38;5;241m=\u001b[39m histogram \u001b[38;5;241m-\u001b[39m \u001b[38;5;28mself\u001b[39m\u001b[38;5;241m.\u001b[39mnormal_prob()\n\u001b[0;32m---> 16\u001b[0m \u001b[38;5;28;01mreturn\u001b[39;00m \u001b[43mhistogram\u001b[49m\u001b[38;5;241;43m.\u001b[39;49m\u001b[43msquare\u001b[49m\u001b[43m(\u001b[49m\u001b[43m)\u001b[49m\u001b[38;5;241;43m.\u001b[39;49m\u001b[43msum\u001b[49m\u001b[43m(\u001b[49m\u001b[43m)\u001b[49m\u001b[38;5;241;43m.\u001b[39;49m\u001b[43mcpu\u001b[49m\u001b[43m(\u001b[49m\u001b[43m)\u001b[49m\u001b[38;5;241m.\u001b[39mnumpy()\n",
      "\u001b[0;31mKeyboardInterrupt\u001b[0m: "
     ]
    }
   ],
   "source": [
    "best_metric = -1\n",
    "best_metric_epoch = -1\n",
    "epoch_loss_values = []\n",
    "metric_values = []\n",
    "\n",
    "max_epochs = 50\n",
    "val_interval = 1\n",
    "\n",
    "\n",
    "model.to(device)\n",
    "\n",
    "\n",
    "model_data = None\n",
    "single_complexity = list()\n",
    "single_entropy = list()\n",
    "single_disequilibrium = list()\n",
    "single_loss = list()\n",
    "\n",
    "for epoch in range(max_epochs):\n",
    "    print(\"-\" * 10)\n",
    "    print(f\"epoch {epoch + 1}/{max_epochs}\")\n",
    "    model.train()\n",
    "    epoch_loss = 0\n",
    "    step = 0\n",
    "    for batch_data in train_loader:\n",
    "        step += 1\n",
    "        inputs, labels = batch_data[0].to(device), batch_data[1].to(device)\n",
    "        labels = labels.float()\n",
    "        optimizer.zero_grad()\n",
    "        outputs = model(inputs)\n",
    "        outputs = outputs.squeeze(dim=1)\n",
    "        loss = loss_function(outputs, labels)\n",
    "        loss.backward()\n",
    "        optimizer.step()\n",
    "        epoch_loss += loss.item()\n",
    "        print(\n",
    "            f\"{step}/{len(train_ds) // train_loader.batch_size}, \"\n",
    "            f\"train_loss: {loss.item():.4f}\")\n",
    "        epoch_len = len(train_ds) // train_loader.batch_size\n",
    "\n",
    "        # EXTRACT MODEL DATA\n",
    "        model_data = extract_model_data(model, model_data)\n",
    "        myp = torch.nn.utils.parameters_to_vector(model.parameters())\n",
    "        single_complexity.append(Complexity().complexity(myp))\n",
    "        single_entropy.append(Complexity().entropy(myp))\n",
    "        single_disequilibrium.append(Complexity().desiquilibrium(myp))\n",
    "        single_loss.append(loss.item())\n",
    "\n",
    "    epoch_loss /= step\n",
    "    epoch_loss_values.append(epoch_loss)\n",
    "    print(f\"epoch {epoch + 1} average loss: {epoch_loss:.4f}\")\n",
    "\n",
    "    if (epoch + 1) % val_interval == 0:\n",
    "        model.eval()\n",
    "        with torch.no_grad():\n",
    "            y_pred = torch.tensor([], dtype=torch.float32, device=device)\n",
    "            y = torch.tensor([], dtype=torch.long, device=device)\n",
    "            for val_data in val_loader:\n",
    "                val_images, val_labels = (\n",
    "                    val_data[0].to(device),\n",
    "                    val_data[1].to(device),\n",
    "                )\n",
    "                y_pred = torch.cat([y_pred, model(val_images)], dim=0)\n",
    "                y = torch.cat([y, val_labels], dim=0)\n",
    "            auc_metric = compute_roc_auc(\n",
    "                y_pred, y)\n",
    "            metric_values.append(auc_metric)\n",
    "            '''\n",
    "            y_one_hot = label_binarize(y.cpu().numpy(), classes=np.arange(num_classes))\n",
    "            fpr, tpr, _ = roc_curve(y_one_hot.ravel(), y_pred.cpu().numpy().ravel())\n",
    "            auc_value = auc(fpr, tpr)\n",
    "            '''\n",
    "            acc_value = torch.eq(y_pred.argmax(dim=1), y)\n",
    "            acc_metric = acc_value.sum().item() / len(acc_value)\n",
    "            if auc_metric > best_metric:\n",
    "                best_metric = auc_metric\n",
    "                best_metric_epoch = epoch + 1\n",
    "                torch.save(model.state_dict(), os.path.join(\n",
    "                    root_dir, \"best_metric_model.pth\"))\n",
    "                print(\"saved new best metric model\")\n",
    "            print(\n",
    "                f\"current epoch: {epoch + 1} current AUC: {auc_metric:.4f}\"\n",
    "                f\" current accuracy: {acc_metric:.4f}\"\n",
    "                f\" best AUC: {best_metric:.4f}\"\n",
    "                f\" at epoch: {best_metric_epoch}\"\n",
    "            )\n",
    "\n",
    "print(\n",
    "    f\"train completed, best_metric: {best_metric:.4f} \"\n",
    "    f\"at epoch: {best_metric_epoch}\")"
   ]
  },
  {
   "cell_type": "code",
   "execution_count": 26,
   "metadata": {},
   "outputs": [
    {
     "data": {
      "image/png": "[encoded data removed]",
      "text/plain": [
       "<Figure size 1200x600 with 2 Axes>"
      ]
     },
     "metadata": {},
     "output_type": "display_data"
    }
   ],
   "source": [
    "plt.figure(\"train\", (12, 6))\n",
    "plt.subplot(1, 2, 1)\n",
    "plt.title(\"Epoch Average Loss\")\n",
    "x = [i + 1 for i in range(len(epoch_loss_values))]\n",
    "y = epoch_loss_values\n",
    "plt.xlabel(\"epoch\")\n",
    "plt.plot(x, y)\n",
    "plt.subplot(1, 2, 2)\n",
    "plt.title(\"Val AUC\")\n",
    "x = [val_interval * (i + 1) for i in range(len(metric_values))]\n",
    "y = metric_values\n",
    "plt.xlabel(\"epoch\")\n",
    "plt.plot(x, y)\n",
    "plt.show()"
   ]
  },
  {
   "cell_type": "code",
   "execution_count": 27,
   "metadata": {},
   "outputs": [
    {
     "data": {
      "image/png": "[encoded data removed]",
      "text/plain": [
       "<Figure size 1200x600 with 2 Axes>"
      ]
     },
     "metadata": {},
     "output_type": "display_data"
    }
   ],
   "source": [
    "fig = plt.figure(\"train\", (12, 6))\n",
    "plt.subplot(1, 2, 1)\n",
    "plt.title(\"Iteration Complexity\")\n",
    "x = [i + 1 for i in range(len(single_complexity))]\n",
    "y = single_complexity\n",
    "plt.xlabel(\"Iteration\")\n",
    "plt.plot(x, y)\n",
    "plt.subplot(1, 2, 2)\n",
    "plt.title(\"Iteration Loss\")\n",
    "x = [val_interval * (i + 1) for i in range(len(single_loss))]\n",
    "y = single_loss\n",
    "plt.xlabel(\"Iteration\")\n",
    "plt.plot(x, y)\n",
    "plt.show()\n",
    "fig.savefig('complexity.png')\n"
   ]
  },
  {
   "cell_type": "code",
   "execution_count": 29,
   "metadata": {},
   "outputs": [
    {
     "name": "stderr",
     "output_type": "stream",
     "text": [
      "To copy construct from a tensor, it is recommended to use sourceTensor.clone().detach() or sourceTensor.clone().detach().requires_grad_(True), rather than torch.tensor(sourceTensor).\n",
      "To copy construct from a tensor, it is recommended to use sourceTensor.clone().detach() or sourceTensor.clone().detach().requires_grad_(True), rather than torch.tensor(sourceTensor).\n",
      "To copy construct from a tensor, it is recommended to use sourceTensor.clone().detach() or sourceTensor.clone().detach().requires_grad_(True), rather than torch.tensor(sourceTensor).\n",
      "To copy construct from a tensor, it is recommended to use sourceTensor.clone().detach() or sourceTensor.clone().detach().requires_grad_(True), rather than torch.tensor(sourceTensor).\n"
     ]
    }
   ],
   "source": [
    "\n",
    "model.eval()\n",
    "y_true = []\n",
    "y_pred = []\n",
    "with torch.no_grad():\n",
    "    for test_data in test_loader:\n",
    "        test_images, test_labels = (\n",
    "            test_data[0].to(device),\n",
    "            test_data[1].to(device),\n",
    "        )\n",
    "        pred = model(test_images).argmax(dim=1)\n",
    "        for i in range(len(pred)):\n",
    "            y_true.append(test_labels[i].item())\n",
    "            y_pred.append(pred[i].item())"
   ]
  },
  {
   "cell_type": "code",
   "execution_count": 32,
   "metadata": {},
   "outputs": [
    {
     "data": {
      "text/plain": [
       "[72.0,\n",
       " 52.0,\n",
       " 66.0,\n",
       " 79.0,\n",
       " 74.0,\n",
       " 33.0,\n",
       " 53.0,\n",
       " 38.0,\n",
       " 22.0,\n",
       " 80.0,\n",
       " 44.0,\n",
       " 84.0,\n",
       " 5.0,\n",
       " 45.0,\n",
       " 79.0,\n",
       " 28.0,\n",
       " 77.0,\n",
       " 82.0,\n",
       " 47.0,\n",
       " 67.0,\n",
       " 73.0,\n",
       " 78.0,\n",
       " 58.0,\n",
       " 60.0,\n",
       " 71.0,\n",
       " 73.0,\n",
       " 45.0,\n",
       " 64.0,\n",
       " 76.0,\n",
       " 52.0,\n",
       " 87.0,\n",
       " 50.0,\n",
       " 80.0,\n",
       " 66.0,\n",
       " 41.0,\n",
       " 82.0,\n",
       " 67.0,\n",
       " 34.0,\n",
       " 85.0,\n",
       " 69.0,\n",
       " 78.0,\n",
       " 71.0,\n",
       " 77.0,\n",
       " 53.0,\n",
       " 69.0,\n",
       " 79.0,\n",
       " 58.0,\n",
       " 68.0,\n",
       " 26.0,\n",
       " 70.0,\n",
       " 75.0,\n",
       " 67.0,\n",
       " 83.0,\n",
       " 60.0,\n",
       " 73.0,\n",
       " 78.0,\n",
       " 84.0,\n",
       " 47.0,\n",
       " 42.0,\n",
       " 73.0,\n",
       " 65.0,\n",
       " 77.0,\n",
       " 62.0,\n",
       " 74.0,\n",
       " 76.0,\n",
       " 55.0,\n",
       " 69.0,\n",
       " 82.0,\n",
       " 36.0,\n",
       " 58.0,\n",
       " 78.0,\n",
       " 55.0,\n",
       " 80.0,\n",
       " 80.0,\n",
       " 84.0,\n",
       " 79.0,\n",
       " 53.0,\n",
       " 28.0,\n",
       " 80.0,\n",
       " 50.0,\n",
       " 77.0,\n",
       " 31.0,\n",
       " 15.0,\n",
       " 56.0,\n",
       " 42.0,\n",
       " 67.0,\n",
       " 87.0,\n",
       " 53.0,\n",
       " 49.0,\n",
       " 73.0,\n",
       " 46.0,\n",
       " 54.0,\n",
       " 60.0,\n",
       " 73.0,\n",
       " 47.0,\n",
       " 51.0,\n",
       " 51.0,\n",
       " 74.0,\n",
       " 40.0,\n",
       " 47.0,\n",
       " 20.0,\n",
       " 80.0,\n",
       " 78.0,\n",
       " 28.0,\n",
       " 30.0]"
      ]
     },
     "execution_count": 32,
     "metadata": {},
     "output_type": "execute_result"
    },
    {
     "ename": "",
     "evalue": "",
     "output_type": "error",
     "traceback": [
      "\u001b[1;31mThe Kernel crashed while executing code in the current cell or a previous cell. \n",
      "\u001b[1;31mPlease review the code in the cell(s) to identify a possible cause of the failure. \n",
      "\u001b[1;31mClick <a href='https://aka.ms/vscodeJupyterKernelCrash'>here</a> for more info. \n",
      "\u001b[1;31mView Jupyter <a href='command:jupyter.viewOutput'>log</a> for further details."
     ]
    }
   ],
   "source": [
    "y_true"
   ]
  },
  {
   "cell_type": "code",
   "execution_count": null,
   "metadata": {},
   "outputs": [],
   "source": []
  }
 ],
 "metadata": {
  "kernelspec": {
   "display_name": "Python 3",
   "language": "python",
   "name": "python3"
  },
  "language_info": {
   "codemirror_mode": {
    "name": "ipython",
    "version": 3
   },
   "file_extension": ".py",
   "mimetype": "text/x-python",
   "name": "python",
   "nbconvert_exporter": "python",
   "pygments_lexer": "ipython3",
   "version": "3.10.12"
  }
 },
 "nbformat": 4,
 "nbformat_minor": 2
}
