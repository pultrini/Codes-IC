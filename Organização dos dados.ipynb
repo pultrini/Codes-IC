{
 "cells": [
  {
   "cell_type": "code",
   "execution_count": 1,
   "id": "4354c5b4",
   "metadata": {},
   "outputs": [],
   "source": [
    "import pandas as pd"
   ]
  },
  {
   "cell_type": "code",
   "execution_count": 32,
   "id": "ba547c20",
   "metadata": {},
   "outputs": [],
   "source": [
    "dados = pd.read_csv('./DadosDasPancsv.csv')"
   ]
  },
  {
   "cell_type": "code",
   "execution_count": 9,
   "id": "05fd34dd",
   "metadata": {},
   "outputs": [
    {
     "data": {
      "text/html": [
       "<div>\n",
       "<style scoped>\n",
       "    .dataframe tbody tr th:only-of-type {\n",
       "        vertical-align: middle;\n",
       "    }\n",
       "\n",
       "    .dataframe tbody tr th {\n",
       "        vertical-align: top;\n",
       "    }\n",
       "\n",
       "    .dataframe thead th {\n",
       "        text-align: right;\n",
       "    }\n",
       "</style>\n",
       "<table border=\"1\" class=\"dataframe\">\n",
       "  <thead>\n",
       "    <tr style=\"text-align: right;\">\n",
       "      <th></th>\n",
       "      <th>Patient</th>\n",
       "      <th>Date of birth</th>\n",
       "      <th>PAN date</th>\n",
       "      <th>Age at PAN</th>\n",
       "      <th>PAN Path</th>\n",
       "    </tr>\n",
       "  </thead>\n",
       "  <tbody>\n",
       "    <tr>\n",
       "      <th>0</th>\n",
       "      <td>ABEL GONCALVES DA CUNHA</td>\n",
       "      <td>01-03-1970</td>\n",
       "      <td>05-10-2016</td>\n",
       "      <td>46.59</td>\n",
       "      <td>E:\\DAVI\\Image_for_segmentation\\ABEL GONÇALVES ...</td>\n",
       "    </tr>\n",
       "    <tr>\n",
       "      <th>1</th>\n",
       "      <td>ACCACIO ALEIXO</td>\n",
       "      <td>05-05-1938</td>\n",
       "      <td>16-05-2016</td>\n",
       "      <td>78.03</td>\n",
       "      <td>E:\\DAVI\\Image_for_segmentation\\ACCACIO ALEIXO\\...</td>\n",
       "    </tr>\n",
       "    <tr>\n",
       "      <th>2</th>\n",
       "      <td>ACIR CARLOS MASSON</td>\n",
       "      <td>16-03-1951</td>\n",
       "      <td>28-01-2020</td>\n",
       "      <td>68.87</td>\n",
       "      <td>E:\\DAVI\\Image_for_segmentation\\ACIR CARLOS MAS...</td>\n",
       "    </tr>\n",
       "    <tr>\n",
       "      <th>3</th>\n",
       "      <td>ADALBERTO CESAR MARQUES</td>\n",
       "      <td>19-06-1964</td>\n",
       "      <td>28-03-2017</td>\n",
       "      <td>52.78</td>\n",
       "      <td>E:\\DAVI\\Image_for_segmentation\\ADALBERTO CESAR...</td>\n",
       "    </tr>\n",
       "    <tr>\n",
       "      <th>4</th>\n",
       "      <td>ADAMOR DE FREITAS FERREIRA LEITE</td>\n",
       "      <td>21-02-1950</td>\n",
       "      <td>01-07-2015</td>\n",
       "      <td>65.36</td>\n",
       "      <td>E:\\DAVI\\Image_for_segmentation\\ADAMOR DE FREIT...</td>\n",
       "    </tr>\n",
       "    <tr>\n",
       "      <th>...</th>\n",
       "      <td>...</td>\n",
       "      <td>...</td>\n",
       "      <td>...</td>\n",
       "      <td>...</td>\n",
       "      <td>...</td>\n",
       "    </tr>\n",
       "    <tr>\n",
       "      <th>1591</th>\n",
       "      <td>ZELIA MARIA PEREIRA</td>\n",
       "      <td>14-10-1944</td>\n",
       "      <td>24-11-2014</td>\n",
       "      <td>70.11</td>\n",
       "      <td>E:\\DAVI\\Image_for_segmentation\\ZELIA MARIA PER...</td>\n",
       "    </tr>\n",
       "    <tr>\n",
       "      <th>1592</th>\n",
       "      <td>ZILDA LEITE DA SILVA</td>\n",
       "      <td>17-08-1957</td>\n",
       "      <td>14-09-2016</td>\n",
       "      <td>59.07</td>\n",
       "      <td>E:\\DAVI\\Image_for_segmentation\\ZILDA LEITE DA ...</td>\n",
       "    </tr>\n",
       "    <tr>\n",
       "      <th>1593</th>\n",
       "      <td>ZILDA SCHIAVON CAMILLO</td>\n",
       "      <td>15-09-1961</td>\n",
       "      <td>29-02-2016</td>\n",
       "      <td>54.46</td>\n",
       "      <td>E:\\DAVI\\Image_for_segmentation\\ZILDA SCHIAVON ...</td>\n",
       "    </tr>\n",
       "    <tr>\n",
       "      <th>1594</th>\n",
       "      <td>ZINEIA FURLAN</td>\n",
       "      <td>02-01-1966</td>\n",
       "      <td>02-05-2017</td>\n",
       "      <td>51.33</td>\n",
       "      <td>E:\\DAVI\\Image_for_segmentation\\ZINEIA FURLAN\\Z...</td>\n",
       "    </tr>\n",
       "    <tr>\n",
       "      <th>1595</th>\n",
       "      <td>ZINEIA FURLAN</td>\n",
       "      <td>02-01-1966</td>\n",
       "      <td>27-02-2018</td>\n",
       "      <td>52.15</td>\n",
       "      <td>E:\\DAVI\\Image_for_segmentation\\ZINEIA FURLAN\\Z...</td>\n",
       "    </tr>\n",
       "  </tbody>\n",
       "</table>\n",
       "<p>1596 rows × 5 columns</p>\n",
       "</div>"
      ],
      "text/plain": [
       "                               Patient Date of birth    PAN date  Age at PAN  \\\n",
       "0              ABEL GONCALVES DA CUNHA    01-03-1970  05-10-2016       46.59   \n",
       "1                       ACCACIO ALEIXO    05-05-1938  16-05-2016       78.03   \n",
       "2                   ACIR CARLOS MASSON    16-03-1951  28-01-2020       68.87   \n",
       "3              ADALBERTO CESAR MARQUES    19-06-1964  28-03-2017       52.78   \n",
       "4     ADAMOR DE FREITAS FERREIRA LEITE    21-02-1950  01-07-2015       65.36   \n",
       "...                                ...           ...         ...         ...   \n",
       "1591               ZELIA MARIA PEREIRA    14-10-1944  24-11-2014       70.11   \n",
       "1592              ZILDA LEITE DA SILVA    17-08-1957  14-09-2016       59.07   \n",
       "1593            ZILDA SCHIAVON CAMILLO    15-09-1961  29-02-2016       54.46   \n",
       "1594                     ZINEIA FURLAN    02-01-1966  02-05-2017       51.33   \n",
       "1595                     ZINEIA FURLAN    02-01-1966  27-02-2018       52.15   \n",
       "\n",
       "                                               PAN Path  \n",
       "0     E:\\DAVI\\Image_for_segmentation\\ABEL GONÇALVES ...  \n",
       "1     E:\\DAVI\\Image_for_segmentation\\ACCACIO ALEIXO\\...  \n",
       "2     E:\\DAVI\\Image_for_segmentation\\ACIR CARLOS MAS...  \n",
       "3     E:\\DAVI\\Image_for_segmentation\\ADALBERTO CESAR...  \n",
       "4     E:\\DAVI\\Image_for_segmentation\\ADAMOR DE FREIT...  \n",
       "...                                                 ...  \n",
       "1591  E:\\DAVI\\Image_for_segmentation\\ZELIA MARIA PER...  \n",
       "1592  E:\\DAVI\\Image_for_segmentation\\ZILDA LEITE DA ...  \n",
       "1593  E:\\DAVI\\Image_for_segmentation\\ZILDA SCHIAVON ...  \n",
       "1594  E:\\DAVI\\Image_for_segmentation\\ZINEIA FURLAN\\Z...  \n",
       "1595  E:\\DAVI\\Image_for_segmentation\\ZINEIA FURLAN\\Z...  \n",
       "\n",
       "[1596 rows x 5 columns]"
      ]
     },
     "execution_count": 9,
     "metadata": {},
     "output_type": "execute_result"
    }
   ],
   "source": [
    "dados"
   ]
  },
  {
   "cell_type": "code",
   "execution_count": 27,
   "id": "50b9ee87",
   "metadata": {},
   "outputs": [
    {
     "data": {
      "text/plain": [
       "True     943\n",
       "False    653\n",
       "dtype: int64"
      ]
     },
     "execution_count": 27,
     "metadata": {},
     "output_type": "execute_result"
    }
   ],
   "source": [
    "dados.duplicated('Date of birth').value_counts()"
   ]
  },
  {
   "cell_type": "code",
   "execution_count": 26,
   "id": "f9eaafce",
   "metadata": {
    "scrolled": true
   },
   "outputs": [
    {
     "data": {
      "text/plain": [
       "False    842\n",
       "True     754\n",
       "dtype: int64"
      ]
     },
     "execution_count": 26,
     "metadata": {},
     "output_type": "execute_result"
    }
   ],
   "source": [
    "dados.duplicated('Age at PAN').value_counts()"
   ]
  },
  {
   "cell_type": "code",
   "execution_count": 28,
   "id": "df38fd0b",
   "metadata": {},
   "outputs": [
    {
     "data": {
      "text/plain": [
       "False    920\n",
       "True     676\n",
       "dtype: int64"
      ]
     },
     "execution_count": 28,
     "metadata": {},
     "output_type": "execute_result"
    }
   ],
   "source": [
    "#valor de duplicados dado no true\n",
    "dados.duplicated(subset=('Age at PAN', 'Date of birth')).value_counts()"
   ]
  },
  {
   "cell_type": "code",
   "execution_count": 29,
   "id": "95d36dd8",
   "metadata": {},
   "outputs": [],
   "source": [
    "#excluindo a combinação de dados duplicados dos dois\n",
    "dados_utilizados = dados.drop_duplicates(subset=('Age at PAN', 'Date of birth'))"
   ]
  },
  {
   "cell_type": "code",
   "execution_count": 30,
   "id": "9355279a",
   "metadata": {},
   "outputs": [
    {
     "data": {
      "text/html": [
       "<div>\n",
       "<style scoped>\n",
       "    .dataframe tbody tr th:only-of-type {\n",
       "        vertical-align: middle;\n",
       "    }\n",
       "\n",
       "    .dataframe tbody tr th {\n",
       "        vertical-align: top;\n",
       "    }\n",
       "\n",
       "    .dataframe thead th {\n",
       "        text-align: right;\n",
       "    }\n",
       "</style>\n",
       "<table border=\"1\" class=\"dataframe\">\n",
       "  <thead>\n",
       "    <tr style=\"text-align: right;\">\n",
       "      <th></th>\n",
       "      <th>Patient</th>\n",
       "      <th>Date of birth</th>\n",
       "      <th>PAN date</th>\n",
       "      <th>Age at PAN</th>\n",
       "      <th>PAN Path</th>\n",
       "    </tr>\n",
       "  </thead>\n",
       "  <tbody>\n",
       "    <tr>\n",
       "      <th>0</th>\n",
       "      <td>ABEL GONCALVES DA CUNHA</td>\n",
       "      <td>01-03-1970</td>\n",
       "      <td>05-10-2016</td>\n",
       "      <td>46.59</td>\n",
       "      <td>E:\\DAVI\\Image_for_segmentation\\ABEL GONÇALVES ...</td>\n",
       "    </tr>\n",
       "    <tr>\n",
       "      <th>1</th>\n",
       "      <td>ACCACIO ALEIXO</td>\n",
       "      <td>05-05-1938</td>\n",
       "      <td>16-05-2016</td>\n",
       "      <td>78.03</td>\n",
       "      <td>E:\\DAVI\\Image_for_segmentation\\ACCACIO ALEIXO\\...</td>\n",
       "    </tr>\n",
       "    <tr>\n",
       "      <th>2</th>\n",
       "      <td>ACIR CARLOS MASSON</td>\n",
       "      <td>16-03-1951</td>\n",
       "      <td>28-01-2020</td>\n",
       "      <td>68.87</td>\n",
       "      <td>E:\\DAVI\\Image_for_segmentation\\ACIR CARLOS MAS...</td>\n",
       "    </tr>\n",
       "    <tr>\n",
       "      <th>3</th>\n",
       "      <td>ADALBERTO CESAR MARQUES</td>\n",
       "      <td>19-06-1964</td>\n",
       "      <td>28-03-2017</td>\n",
       "      <td>52.78</td>\n",
       "      <td>E:\\DAVI\\Image_for_segmentation\\ADALBERTO CESAR...</td>\n",
       "    </tr>\n",
       "    <tr>\n",
       "      <th>4</th>\n",
       "      <td>ADAMOR DE FREITAS FERREIRA LEITE</td>\n",
       "      <td>21-02-1950</td>\n",
       "      <td>01-07-2015</td>\n",
       "      <td>65.36</td>\n",
       "      <td>E:\\DAVI\\Image_for_segmentation\\ADAMOR DE FREIT...</td>\n",
       "    </tr>\n",
       "    <tr>\n",
       "      <th>...</th>\n",
       "      <td>...</td>\n",
       "      <td>...</td>\n",
       "      <td>...</td>\n",
       "      <td>...</td>\n",
       "      <td>...</td>\n",
       "    </tr>\n",
       "    <tr>\n",
       "      <th>1587</th>\n",
       "      <td>WALTER LUIZ BERTOLDI</td>\n",
       "      <td>18-10-1958</td>\n",
       "      <td>11-08-2015</td>\n",
       "      <td>56.82</td>\n",
       "      <td>E:\\DAVI\\Image_for_segmentation\\WALTER LUIZ BER...</td>\n",
       "    </tr>\n",
       "    <tr>\n",
       "      <th>1588</th>\n",
       "      <td>WILIAN SANTOS VASCONCELOS</td>\n",
       "      <td>05-03-1959</td>\n",
       "      <td>11-05-2017</td>\n",
       "      <td>58.18</td>\n",
       "      <td>E:\\DAVI\\Image_for_segmentation\\WILIAM SANTOS V...</td>\n",
       "    </tr>\n",
       "    <tr>\n",
       "      <th>1589</th>\n",
       "      <td>WILSON ALVES DE ALMEIDA</td>\n",
       "      <td>31-01-1962</td>\n",
       "      <td>05-01-2017</td>\n",
       "      <td>54.93</td>\n",
       "      <td>E:\\DAVI\\Image_for_segmentation\\WILSON GONÇALVE...</td>\n",
       "    </tr>\n",
       "    <tr>\n",
       "      <th>1591</th>\n",
       "      <td>ZELIA MARIA PEREIRA</td>\n",
       "      <td>14-10-1944</td>\n",
       "      <td>24-11-2014</td>\n",
       "      <td>70.11</td>\n",
       "      <td>E:\\DAVI\\Image_for_segmentation\\ZELIA MARIA PER...</td>\n",
       "    </tr>\n",
       "    <tr>\n",
       "      <th>1592</th>\n",
       "      <td>ZILDA LEITE DA SILVA</td>\n",
       "      <td>17-08-1957</td>\n",
       "      <td>14-09-2016</td>\n",
       "      <td>59.07</td>\n",
       "      <td>E:\\DAVI\\Image_for_segmentation\\ZILDA LEITE DA ...</td>\n",
       "    </tr>\n",
       "  </tbody>\n",
       "</table>\n",
       "<p>920 rows × 5 columns</p>\n",
       "</div>"
      ],
      "text/plain": [
       "                               Patient Date of birth    PAN date  Age at PAN  \\\n",
       "0              ABEL GONCALVES DA CUNHA    01-03-1970  05-10-2016       46.59   \n",
       "1                       ACCACIO ALEIXO    05-05-1938  16-05-2016       78.03   \n",
       "2                   ACIR CARLOS MASSON    16-03-1951  28-01-2020       68.87   \n",
       "3              ADALBERTO CESAR MARQUES    19-06-1964  28-03-2017       52.78   \n",
       "4     ADAMOR DE FREITAS FERREIRA LEITE    21-02-1950  01-07-2015       65.36   \n",
       "...                                ...           ...         ...         ...   \n",
       "1587              WALTER LUIZ BERTOLDI    18-10-1958  11-08-2015       56.82   \n",
       "1588         WILIAN SANTOS VASCONCELOS    05-03-1959  11-05-2017       58.18   \n",
       "1589           WILSON ALVES DE ALMEIDA    31-01-1962  05-01-2017       54.93   \n",
       "1591               ZELIA MARIA PEREIRA    14-10-1944  24-11-2014       70.11   \n",
       "1592              ZILDA LEITE DA SILVA    17-08-1957  14-09-2016       59.07   \n",
       "\n",
       "                                               PAN Path  \n",
       "0     E:\\DAVI\\Image_for_segmentation\\ABEL GONÇALVES ...  \n",
       "1     E:\\DAVI\\Image_for_segmentation\\ACCACIO ALEIXO\\...  \n",
       "2     E:\\DAVI\\Image_for_segmentation\\ACIR CARLOS MAS...  \n",
       "3     E:\\DAVI\\Image_for_segmentation\\ADALBERTO CESAR...  \n",
       "4     E:\\DAVI\\Image_for_segmentation\\ADAMOR DE FREIT...  \n",
       "...                                                 ...  \n",
       "1587  E:\\DAVI\\Image_for_segmentation\\WALTER LUIZ BER...  \n",
       "1588  E:\\DAVI\\Image_for_segmentation\\WILIAM SANTOS V...  \n",
       "1589  E:\\DAVI\\Image_for_segmentation\\WILSON GONÇALVE...  \n",
       "1591  E:\\DAVI\\Image_for_segmentation\\ZELIA MARIA PER...  \n",
       "1592  E:\\DAVI\\Image_for_segmentation\\ZILDA LEITE DA ...  \n",
       "\n",
       "[920 rows x 5 columns]"
      ]
     },
     "execution_count": 30,
     "metadata": {},
     "output_type": "execute_result"
    }
   ],
   "source": [
    "dados_utilizados"
   ]
  },
  {
   "cell_type": "code",
   "execution_count": 31,
   "id": "5ab82baa",
   "metadata": {},
   "outputs": [
    {
     "data": {
      "text/plain": [
       "False    920\n",
       "dtype: int64"
      ]
     },
     "execution_count": 31,
     "metadata": {},
     "output_type": "execute_result"
    }
   ],
   "source": [
    "#verificando se não há dados duplicados apos exclusão, batendo com o duplicat\n",
    "dados_utilizados.duplicated().value_counts()"
   ]
  },
  {
   "cell_type": "code",
   "execution_count": null,
   "id": "dbaaabeb",
   "metadata": {},
   "outputs": [],
   "source": []
  }
 ],
 "metadata": {
  "kernelspec": {
   "display_name": "Python 3",
   "language": "python",
   "name": "python3"
  },
  "language_info": {
   "codemirror_mode": {
    "name": "ipython",
    "version": 3
   },
   "file_extension": ".py",
   "mimetype": "text/x-python",
   "name": "python",
   "nbconvert_exporter": "python",
   "pygments_lexer": "ipython3",
   "version": "3.8.8"
  }
 },
 "nbformat": 4,
 "nbformat_minor": 5
}
